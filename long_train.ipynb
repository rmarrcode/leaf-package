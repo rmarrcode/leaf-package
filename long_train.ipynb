{
 "cells": [
  {
   "cell_type": "code",
   "execution_count": 1,
   "metadata": {},
   "outputs": [
    {
     "name": "stdout",
     "output_type": "stream",
     "text": [
      "Initializing _core module...\n",
      "_core module initialization complete!\n"
     ]
    }
   ],
   "source": [
    "import torch\n",
    "import torch.nn as nn\n",
    "import torch.optim as optim\n",
    "import torchvision\n",
    "import torchvision.transforms as transforms\n",
    "from torch.utils.data import DataLoader\n",
    "from torchvision.models import resnet50\n",
    "import time\n",
    "import wandb\n",
    "#\n",
    "from leaf._core import LeafConfig, LeafTrainer"
   ]
  },
  {
   "cell_type": "code",
   "execution_count": 2,
   "metadata": {},
   "outputs": [],
   "source": [
    "config = LeafConfig()"
   ]
  },
  {
   "cell_type": "code",
   "execution_count": 3,
   "metadata": {},
   "outputs": [
    {
     "name": "stdout",
     "output_type": "stream",
     "text": [
      "SSH connection test successful\n",
      "184.145.155.117 : ssh connection successful\n",
      "Checking for Docker installation...\n",
      "184.145.155.117 :docker verification successful\n",
      "184.145.155.117 : docker daemon verification successful\n",
      "Docker files copied successfully\n",
      "184.145.155.117 : docker files copied successful\n",
      "Building Docker image...\n",
      "#0 building with \"default\" instance using docker driver\n",
      "\n",
      "#1 [internal] load build definition from Dockerfile\n",
      "#1 transferring dockerfile: 1.51kB done\n",
      "#1 DONE 0.0s\n",
      "\n",
      "#2 [internal] load metadata for docker.io/library/ubuntu:22.04\n",
      "#2 DONE 0.3s\n",
      "\n",
      "#3 [internal] load .dockerignore\n",
      "#3 transferring context: 2B done\n",
      "#3 DONE 0.0s\n",
      "\n",
      "#4 [builder  1/13] FROM docker.io/library/ubuntu:22.04@sha256:3c61d3759c2639d4b836d32a2d3c83fa0214e36f195a3421018dbaaf79cbe37f\n",
      "#4 DONE 0.0s\n",
      "\n",
      "#5 [stage-1 3/6] RUN pip3 install pybind11\n",
      "#5 CACHED\n",
      "\n",
      "#6 [stage-1 2/6] RUN apt-get update && apt-get install -y     libgrpc++1     libgrpc10     libprotobuf23     python3     python3-pip     && rm -rf /var/lib/apt/lists/*\n",
      "#6 CACHED\n",
      "\n",
      "#7 [stage-1 4/6] WORKDIR /app\n",
      "#7 CACHED\n",
      "\n",
      "#8 [internal] load build context\n",
      "#8 transferring context: 26.78kB done\n",
      "#8 DONE 0.0s\n",
      "\n",
      "#9 [builder  8/13] COPY model.h .\n",
      "#9 CACHED\n",
      "\n",
      "#10 [builder  3/13] RUN pip3 install pybind11\n",
      "#10 CACHED\n",
      "\n",
      "#11 [builder  7/13] COPY server_communication.proto .\n",
      "#11 CACHED\n",
      "\n",
      "#12 [builder  6/13] COPY server_communication.h .\n",
      "#12 CACHED\n",
      "\n",
      "#13 [builder  2/13] RUN apt-get update && apt-get install -y     build-essential     protobuf-compiler-grpc     libgrpc++-dev     libprotobuf-dev     python3-dev     python3-pip     && rm -rf /var/lib/apt/lists/*\n",
      "#13 CACHED\n",
      "\n",
      "#14 [builder  5/13] COPY server_communication.cpp .\n",
      "#14 CACHED\n",
      "\n",
      "#15 [builder  4/13] WORKDIR /src\n",
      "#15 CACHED\n",
      "\n",
      "#16 [builder  9/13] COPY model.cpp .\n",
      "#16 CACHED\n",
      "\n",
      "#17 [builder 10/13] COPY criterion.h .\n",
      "#17 DONE 0.1s\n",
      "\n",
      "#18 [builder 11/13] COPY criterion.cpp .\n",
      "#18 DONE 0.1s\n",
      "\n",
      "#19 [builder 12/13] RUN protoc --cpp_out=. --grpc_out=. --plugin=protoc-gen-grpc=/usr/bin/grpc_cpp_plugin server_communication.proto\n",
      "#19 DONE 0.5s\n",
      "\n",
      "#20 [builder 13/13] RUN g++ -std=c++17 -I/usr/include/python3.10 -I/usr/local/lib/python3.10/dist-packages/pybind11/include server_communication.cpp model.cpp criterion.cpp server_communication.pb.cc server_communication.grpc.pb.cc -lgrpc++ -lprotobuf -lpython3.10 -o server_communication\n",
      "#20 2.979 In file included from server_communication.h:6,\n",
      "#20 2.979                  from server_communication.cpp:7:\n",
      "#20 2.979 model.h:18:7: warning: 'Model' declared with greater visibility than the type of its field 'Model::pytorch_model' [-Wattributes]\n",
      "#20 2.979    18 | class Model {\n",
      "#20 2.979       |       ^~~~~\n",
      "#20 2.979 model.h:18:7: warning: 'Model' declared with greater visibility than the type of its field 'Model::stored_outputs' [-Wattributes]\n",
      "#20 6.734 In file included from model.cpp:1:\n",
      "#20 6.734 model.h:18:7: warning: 'Model' declared with greater visibility than the type of its field 'Model::pytorch_model' [-Wattributes]\n",
      "#20 6.734    18 | class Model {\n",
      "#20 6.734       |       ^~~~~\n",
      "#20 6.734 model.h:18:7: warning: 'Model' declared with greater visibility than the type of its field 'Model::stored_outputs' [-Wattributes]\n",
      "#20 6.734 In file included from model.cpp:2:\n",
      "#20 6.734 criterion.h:17:7: warning: 'Criterion' declared with greater visibility than the type of its field 'Criterion::pytorch_criterion' [-Wattributes]\n",
      "#20 6.734    17 | class Criterion {\n",
      "#20 6.734       |       ^~~~~~~~~\n",
      "#20 6.734 criterion.h:17:7: warning: 'Criterion' declared with greater visibility than the type of its field 'Criterion::stored_outputs' [-Wattributes]\n",
      "#20 6.734 criterion.h:17:7: warning: 'Criterion' declared with greater visibility than the type of its field 'Criterion::stored_targets' [-Wattributes]\n",
      "#20 9.969 In file included from criterion.cpp:1:\n",
      "#20 9.969 criterion.h:17:7: warning: 'Criterion' declared with greater visibility than the type of its field 'Criterion::pytorch_criterion' [-Wattributes]\n",
      "#20 9.969    17 | class Criterion {\n",
      "#20 9.969       |       ^~~~~~~~~\n",
      "#20 9.969 criterion.h:17:7: warning: 'Criterion' declared with greater visibility than the type of its field 'Criterion::stored_outputs' [-Wattributes]\n",
      "#20 9.969 criterion.h:17:7: warning: 'Criterion' declared with greater visibility than the type of its field 'Criterion::stored_targets' [-Wattributes]\n",
      "#20 DONE 16.6s\n",
      "\n",
      "#21 [stage-1 5/6] COPY --from=builder /src/server_communication ./server_communication\n",
      "#21 DONE 0.1s\n",
      "\n",
      "#22 [stage-1 6/6] RUN chmod +x server_communication\n",
      "#22 DONE 0.4s\n",
      "\n",
      "#23 exporting to image\n",
      "#23 exporting layers\n",
      "#23 exporting layers 6.1s done\n",
      "#23 writing image sha256:3ae99bda73babeacff20c5f76721132961cff548ba9bf2e264be8bcc87535790 done\n",
      "#23 naming to docker.io/library/leaf-grpc-server 0.0s done\n",
      "#23 DONE 6.2s\n",
      "Docker build successful, starting container...\n",
      "76b902aa60d484a5492b51a8ac223f84e4c8939a7c741424a067806ade61563b\n",
      "Docker container started successfully!\n",
      "76b902aa60d4   leaf-grpc-server   \"./server_communicat…\"   13 seconds ago   Up 12 seconds   127.0.0.1:50051->50051/tcp   leaf-grpc-server\n",
      "184.145.155.117 : docker container built successful\n",
      "SSH tunnel established on port 50051 (PID: 97535)\n",
      "184.145.155.117 : ssh tunnel setup successful\n",
      "184.145.155.117 : grpc connection successful\n",
      "gRPC verification successful\n"
     ]
    }
   ],
   "source": [
    "config.add_server(\n",
    "    server_name=\"gpu-server-1\",\n",
    "    username=\"root\",\n",
    "    hostname=\"184.145.155.117\",\n",
    "    port=15835,  \n",
    ")"
   ]
  },
  {
   "cell_type": "code",
   "execution_count": 4,
   "metadata": {},
   "outputs": [],
   "source": [
    "leaf_trainer = LeafTrainer(config)"
   ]
  },
  {
   "cell_type": "code",
   "execution_count": 5,
   "metadata": {},
   "outputs": [
    {
     "name": "stdout",
     "output_type": "stream",
     "text": [
      "\n",
      "=== Available Servers and Resources ===\n",
      "\n",
      "==================================================\n",
      "Server: gpu-server-1\n",
      "==================================================\n",
      "Status: Connected\n",
      "Type: Remote server\n",
      "Username: root\n",
      "Hostname: 184.145.155.117\n",
      "Port: 15835\n",
      "\n",
      "Available Resources (1):\n",
      "--------------------------------------------------\n",
      "\n",
      "Resource 1:\n",
      "  Name: Quadro P4000\n",
      "  Type: GPU\n",
      "  Properties:\n",
      "    free_memory: 8105 MiB\n",
      "\n",
      "    total_memory: 8192 MiB\n",
      "\n",
      "--------------------------------------------------\n",
      "\n",
      "==================================================\n",
      "Server: localhost\n",
      "==================================================\n",
      "Status: Connected\n",
      "Type: Local machine\n",
      "\n",
      "Available Resources (1):\n",
      "--------------------------------------------------\n",
      "\n",
      "Resource 1:\n",
      "  Name: Apple M1\n",
      "  Type: CPU\n",
      "  Properties:\n",
      "\n",
      "--------------------------------------------------\n",
      "\n",
      "=== End of Server List ===\n",
      "\n"
     ]
    }
   ],
   "source": [
    "config.print_all_resources()"
   ]
  },
  {
   "cell_type": "code",
   "execution_count": 6,
   "metadata": {},
   "outputs": [],
   "source": [
    "leaf_trainer = LeafTrainer(config)"
   ]
  },
  {
   "cell_type": "code",
   "execution_count": 7,
   "metadata": {},
   "outputs": [
    {
     "name": "stdout",
     "output_type": "stream",
     "text": [
      "=== Testing get_gradients_from_server with hardcoded values ===\n",
      "\n",
      "============================================================\n",
      "Testing server: gpu-server-1\n",
      "============================================================\n",
      "Debug: Server gpu-server-1 has hostname: 184.145.155.117 and port: 15835\n",
      "Server type: Remote\n",
      "Connection status: Connected\n",
      "Creating gRPC channel for server 'gpu-server-1' at address: localhost:50051\n",
      "✓ Gradient computation successful!\n",
      "  Loss: 0.5\n",
      "  Gradients size: 3 elements\n",
      "  Sample gradients: 4.59312e+27, 4.58281e+30, 6.88852e+22\n",
      "\n",
      "============================================================\n",
      "Testing server: localhost\n",
      "============================================================\n",
      "Debug: Server localhost has hostname:  and port: 0\n",
      "Server type: Local\n",
      "Connection status: Connected\n",
      "  Computing gradients locally (using GetGradients from server_communication)...\n",
      "  Local computation completed\n",
      "✓ Gradient computation successful!\n",
      "  Loss: 0.5\n",
      "  Gradients size: 3 elements\n",
      "  Sample gradients: 4.59312e+27, 4.58281e+30, 6.88852e+22\n",
      "\n",
      "============================================================\n",
      "Gradient testing with hardcoded values completed!\n",
      "============================================================\n"
     ]
    },
    {
     "data": {
      "text/plain": [
       "{'server_results': [{'server_name': 'gpu-server-1',\n",
       "   'is_local': False,\n",
       "   'is_connected': True,\n",
       "   'success': True,\n",
       "   'loss': 0.5,\n",
       "   'gradients_size': 3,\n",
       "   'gradients': [4.593116492825124e+27,\n",
       "    4.582813224188066e+30,\n",
       "    6.888519090641375e+22]},\n",
       "  {'server_name': 'localhost',\n",
       "   'is_local': True,\n",
       "   'is_connected': True,\n",
       "   'success': True,\n",
       "   'loss': 0.5,\n",
       "   'gradients_size': 3,\n",
       "   'gradients': [4.593116492825124e+27,\n",
       "    4.582813224188066e+30,\n",
       "    6.888519090641375e+22]}],\n",
       " 'total_servers': 2}"
      ]
     },
     "execution_count": 7,
     "metadata": {},
     "output_type": "execute_result"
    }
   ],
   "source": [
    "leaf_trainer.test_with_hardcoded_values()"
   ]
  },
  {
   "cell_type": "code",
   "execution_count": 8,
   "metadata": {},
   "outputs": [],
   "source": [
    "# Set device\n",
    "device = torch.device('cuda' if torch.cuda.is_available() else 'cpu')\n",
    "\n",
    "# Hyperparameters\n",
    "num_epochs = 50\n",
    "batch_size = 128\n",
    "learning_rate = 0.001\n",
    "\n",
    "# Data preprocessing\n",
    "transform_train = transforms.Compose([\n",
    "    transforms.RandomCrop(32, padding=4),\n",
    "    transforms.RandomHorizontalFlip(),\n",
    "    transforms.ToTensor(),\n",
    "    transforms.Normalize((0.4914, 0.4822, 0.4465), (0.2023, 0.1994, 0.2010)),\n",
    "])\n",
    "\n",
    "transform_test = transforms.Compose([\n",
    "    transforms.ToTensor(),\n",
    "    transforms.Normalize((0.4914, 0.4822, 0.4465), (0.2023, 0.1994, 0.2010)),\n",
    "])"
   ]
  },
  {
   "cell_type": "code",
   "execution_count": 9,
   "metadata": {},
   "outputs": [],
   "source": [
    "# Load CIFAR-10 dataset\n",
    "trainset = torchvision.datasets.CIFAR10(root='./data', train=True,\n",
    "                                      download=True, transform=transform_train)\n",
    "trainloader = DataLoader(trainset, batch_size=batch_size,\n",
    "                        shuffle=True, num_workers=2)\n",
    "\n",
    "testset = torchvision.datasets.CIFAR10(root='./data', train=False,\n",
    "                                     download=True, transform=transform_test)\n",
    "testloader = DataLoader(testset, batch_size=batch_size,\n",
    "                       shuffle=False, num_workers=2)"
   ]
  },
  {
   "cell_type": "code",
   "execution_count": 10,
   "metadata": {},
   "outputs": [
    {
     "name": "stderr",
     "output_type": "stream",
     "text": [
      "/Users/ryanmarr/Documents/Subnautica_mod/.venv/lib/python3.12/site-packages/torchvision/models/_utils.py:208: UserWarning: The parameter 'pretrained' is deprecated since 0.13 and may be removed in the future, please use 'weights' instead.\n",
      "  warnings.warn(\n",
      "/Users/ryanmarr/Documents/Subnautica_mod/.venv/lib/python3.12/site-packages/torchvision/models/_utils.py:223: UserWarning: Arguments other than a weight enum or `None` for 'weights' are deprecated since 0.13 and may be removed in the future. The current behavior is equivalent to passing `weights=ResNet50_Weights.IMAGENET1K_V1`. You can also use `weights=ResNet50_Weights.DEFAULT` to get the most up-to-date weights.\n",
      "  warnings.warn(msg)\n"
     ]
    }
   ],
   "source": [
    "# Load pretrained ResNet-50 and modify for CIFAR-10\n",
    "model = resnet50(pretrained=True)\n",
    "model.conv1 = nn.Conv2d(3, 64, kernel_size=3, stride=1, padding=1, bias=False)\n",
    "model.maxpool = nn.Identity()  # Remove maxpool as CIFAR-10 images are small\n",
    "model.fc = nn.Linear(model.fc.in_features, 10)  # Change output to 10 classes\n",
    "model = model.to(device)"
   ]
  },
  {
   "cell_type": "code",
   "execution_count": 11,
   "metadata": {},
   "outputs": [],
   "source": [
    "# run = wandb.init(\n",
    "#     project=\"big-model-example\"\n",
    "# )"
   ]
  },
  {
   "cell_type": "code",
   "execution_count": 12,
   "metadata": {},
   "outputs": [],
   "source": [
    "# Loss function and optimizer\n",
    "criterion = nn.CrossEntropyLoss()\n",
    "optimizer = optim.Adam(model.parameters(), lr=learning_rate)\n",
    "scheduler = optim.lr_scheduler.ReduceLROnPlateau(optimizer, 'min', patience=3)"
   ]
  },
  {
   "cell_type": "code",
   "execution_count": 13,
   "metadata": {},
   "outputs": [
    {
     "name": "stdout",
     "output_type": "stream",
     "text": [
      "0\n"
     ]
    }
   ],
   "source": [
    "for idx, (input, target) in enumerate(trainloader):\n",
    "    print(idx)\n",
    "    if idx == 0:\n",
    "        i = input\n",
    "        break"
   ]
  },
  {
   "cell_type": "code",
   "execution_count": 14,
   "metadata": {},
   "outputs": [
    {
     "data": {
      "text/plain": [
       "tensor([[[[-2.4291, -2.4291, -2.4291,  ..., -2.4291, -2.4291, -2.4291],\n",
       "          [-2.4291, -2.4291, -2.4291,  ..., -2.4291, -2.4291, -2.4291],\n",
       "          [-2.4291, -2.4291, -2.4291,  ..., -2.4291, -2.4291, -2.4291],\n",
       "          ...,\n",
       "          [-2.0220, -1.8863, -1.8281,  ..., -1.2854, -2.4291, -2.4291],\n",
       "          [-2.0995, -1.9832, -1.9638,  ..., -1.2854, -2.4291, -2.4291],\n",
       "          [-1.9251, -1.8863, -1.9638,  ..., -1.2854, -2.4291, -2.4291]],\n",
       "\n",
       "         [[-2.4183, -2.4183, -2.4183,  ..., -2.4183, -2.4183, -2.4183],\n",
       "          [-2.4183, -2.4183, -2.4183,  ..., -2.4183, -2.4183, -2.4183],\n",
       "          [-2.4183, -2.4183, -2.4183,  ..., -2.4183, -2.4183, -2.4183],\n",
       "          ...,\n",
       "          [-0.8449, -0.9236, -1.0416,  ..., -1.0022, -2.4183, -2.4183],\n",
       "          [-0.8646, -0.9039, -0.9236,  ..., -1.0022, -2.4183, -2.4183],\n",
       "          [-1.0022, -0.9826, -0.9826,  ..., -1.0022, -2.4183, -2.4183]],\n",
       "\n",
       "         [[-2.2214, -2.2214, -2.2214,  ..., -2.2214, -2.2214, -2.2214],\n",
       "          [-2.2214, -2.2214, -2.2214,  ..., -2.2214, -2.2214, -2.2214],\n",
       "          [-2.2214, -2.2214, -2.2214,  ..., -2.2214, -2.2214, -2.2214],\n",
       "          ...,\n",
       "          [ 0.1979,  0.0028, -0.2704,  ..., -0.4069, -2.2214, -2.2214],\n",
       "          [ 0.2174,  0.1589,  0.1198,  ..., -0.4264, -2.2214, -2.2214],\n",
       "          [ 0.0223,  0.0028,  0.0808,  ..., -0.4460, -2.2214, -2.2214]]],\n",
       "\n",
       "\n",
       "        [[[-0.2773, -0.2386, -0.3161,  ..., -2.4291, -2.4291, -2.4291],\n",
       "          [-0.3161, -0.2386, -0.2967,  ..., -2.4291, -2.4291, -2.4291],\n",
       "          [-0.2967, -0.2192, -0.2967,  ..., -2.4291, -2.4291, -2.4291],\n",
       "          ...,\n",
       "          [-2.4291, -2.4291, -2.4291,  ..., -2.4291, -2.4291, -2.4291],\n",
       "          [-2.4291, -2.4291, -2.4291,  ..., -2.4291, -2.4291, -2.4291],\n",
       "          [-2.4291, -2.4291, -2.4291,  ..., -2.4291, -2.4291, -2.4291]],\n",
       "\n",
       "         [[ 0.2958,  0.3154,  0.1581,  ..., -2.4183, -2.4183, -2.4183],\n",
       "          [ 0.2368,  0.2958,  0.1778,  ..., -2.4183, -2.4183, -2.4183],\n",
       "          [ 0.1974,  0.2564,  0.1581,  ..., -2.4183, -2.4183, -2.4183],\n",
       "          ...,\n",
       "          [-2.4183, -2.4183, -2.4183,  ..., -2.4183, -2.4183, -2.4183],\n",
       "          [-2.4183, -2.4183, -2.4183,  ..., -2.4183, -2.4183, -2.4183],\n",
       "          [-2.4183, -2.4183, -2.4183,  ..., -2.4183, -2.4183, -2.4183]],\n",
       "\n",
       "         [[ 0.5100,  0.5296,  0.3930,  ..., -2.2214, -2.2214, -2.2214],\n",
       "          [ 0.4710,  0.5296,  0.4125,  ..., -2.2214, -2.2214, -2.2214],\n",
       "          [ 0.4515,  0.5296,  0.4515,  ..., -2.2214, -2.2214, -2.2214],\n",
       "          ...,\n",
       "          [-2.2214, -2.2214, -2.2214,  ..., -2.2214, -2.2214, -2.2214],\n",
       "          [-2.2214, -2.2214, -2.2214,  ..., -2.2214, -2.2214, -2.2214],\n",
       "          [-2.2214, -2.2214, -2.2214,  ..., -2.2214, -2.2214, -2.2214]]],\n",
       "\n",
       "\n",
       "        [[[-2.4291, -2.4291, -2.2740,  ..., -2.0801, -2.0608, -1.9832],\n",
       "          [-2.4291, -2.4291, -2.2546,  ..., -2.0414, -2.0220, -1.9444],\n",
       "          [-2.4291, -2.4291, -2.2352,  ..., -2.0220, -2.0026, -1.9251],\n",
       "          ...,\n",
       "          [-2.4291, -2.4291, -1.7118,  ..., -1.4986, -1.4986, -1.5374],\n",
       "          [-2.4291, -2.4291, -1.6924,  ..., -1.4404, -1.4211, -1.5180],\n",
       "          [-2.4291, -2.4291, -1.6924,  ..., -1.4211, -1.4211, -1.4792]],\n",
       "\n",
       "         [[-2.4183, -2.4183, -2.1626,  ..., -1.9659, -1.9463, -1.8676],\n",
       "          [-2.4183, -2.4183, -2.1233,  ..., -1.9266, -1.9069, -1.8282],\n",
       "          [-2.4183, -2.4183, -2.1233,  ..., -1.9069, -1.8873, -1.8086],\n",
       "          ...,\n",
       "          [-2.4183, -2.4183, -1.6906,  ..., -1.3759, -1.4152, -1.6709],\n",
       "          [-2.4183, -2.4183, -1.6709,  ..., -1.3169, -1.3366, -1.6512],\n",
       "          [-2.4183, -2.4183, -1.6709,  ..., -1.3169, -1.3562, -1.6119]],\n",
       "\n",
       "         [[-2.2214, -2.2214, -1.9287,  ..., -1.7141, -1.6946, -1.6166],\n",
       "          [-2.2214, -2.2214, -1.9092,  ..., -1.6751, -1.6556, -1.5776],\n",
       "          [-2.2214, -2.2214, -1.8897,  ..., -1.6556, -1.6361, -1.5580],\n",
       "          ...,\n",
       "          [-2.2214, -2.2214, -1.4215,  ..., -1.1288, -1.2264, -1.5580],\n",
       "          [-2.2214, -2.2214, -1.3825,  ..., -1.0508, -1.1288, -1.5776],\n",
       "          [-2.2214, -2.2214, -1.3825,  ..., -0.9922, -1.1093, -1.5971]]],\n",
       "\n",
       "\n",
       "        ...,\n",
       "\n",
       "\n",
       "        [[[-2.3709, -2.4097, -2.3903,  ..., -2.4291, -2.4291, -2.4291],\n",
       "          [-2.3321, -2.3515, -2.3128,  ..., -2.4291, -2.4291, -2.4291],\n",
       "          [-2.2352, -2.2546, -2.2158,  ..., -2.4291, -2.4291, -2.4291],\n",
       "          ...,\n",
       "          [-2.4291, -2.4291, -2.4291,  ..., -2.4291, -2.4291, -2.4291],\n",
       "          [-2.4291, -2.4291, -2.4291,  ..., -2.4291, -2.4291, -2.4291],\n",
       "          [-2.4291, -2.4291, -2.4291,  ..., -2.4291, -2.4291, -2.4291]],\n",
       "\n",
       "         [[-0.9236, -0.9432, -0.9432,  ..., -2.4183, -2.4183, -2.4183],\n",
       "          [-0.9629, -0.9629, -0.9826,  ..., -2.4183, -2.4183, -2.4183],\n",
       "          [-1.0219, -1.0219, -1.0416,  ..., -2.4183, -2.4183, -2.4183],\n",
       "          ...,\n",
       "          [-2.4183, -2.4183, -2.4183,  ..., -2.4183, -2.4183, -2.4183],\n",
       "          [-2.4183, -2.4183, -2.4183,  ..., -2.4183, -2.4183, -2.4183],\n",
       "          [-2.4183, -2.4183, -2.4183,  ..., -2.4183, -2.4183, -2.4183]],\n",
       "\n",
       "         [[ 0.0418,  0.0223,  0.0418,  ..., -2.2214, -2.2214, -2.2214],\n",
       "          [-0.0167, -0.0167, -0.0167,  ..., -2.2214, -2.2214, -2.2214],\n",
       "          [-0.0753, -0.0753, -0.0948,  ..., -2.2214, -2.2214, -2.2214],\n",
       "          ...,\n",
       "          [-2.2214, -2.2214, -2.2214,  ..., -2.2214, -2.2214, -2.2214],\n",
       "          [-2.2214, -2.2214, -2.2214,  ..., -2.2214, -2.2214, -2.2214],\n",
       "          [-2.2214, -2.2214, -2.2214,  ..., -2.2214, -2.2214, -2.2214]]],\n",
       "\n",
       "\n",
       "        [[[ 2.4753,  2.4753,  2.4753,  ..., -2.4291, -2.4291, -2.4291],\n",
       "          [ 2.5141,  2.5141,  2.5141,  ..., -2.4291, -2.4291, -2.4291],\n",
       "          [ 0.9633,  1.5448,  2.1458,  ..., -2.4291, -2.4291, -2.4291],\n",
       "          ...,\n",
       "          [ 0.1104,  0.3236,  0.4787,  ..., -2.4291, -2.4291, -2.4291],\n",
       "          [-2.4291, -2.4291, -2.4291,  ..., -2.4291, -2.4291, -2.4291],\n",
       "          [-2.4291, -2.4291, -2.4291,  ..., -2.4291, -2.4291, -2.4291]],\n",
       "\n",
       "         [[ 2.5575,  2.5575,  2.5771,  ..., -2.4183, -2.4183, -2.4183],\n",
       "          [ 2.5968,  2.5968,  2.5968,  ..., -2.4183, -2.4183, -2.4183],\n",
       "          [ 0.6694,  1.3774,  2.0855,  ..., -2.4183, -2.4183, -2.4183],\n",
       "          ...,\n",
       "          [-0.3532, -0.1959, -0.0189,  ..., -2.4183, -2.4183, -2.4183],\n",
       "          [-2.4183, -2.4183, -2.4183,  ..., -2.4183, -2.4183, -2.4183],\n",
       "          [-2.4183, -2.4183, -2.4183,  ..., -2.4183, -2.4183, -2.4183]],\n",
       "\n",
       "         [[ 2.7147,  2.6952,  2.6952,  ..., -2.2214, -2.2214, -2.2214],\n",
       "          [ 2.7537,  2.7537,  2.7537,  ..., -2.2214, -2.2214, -2.2214],\n",
       "          [ 0.4125,  1.2514,  2.0904,  ..., -2.2214, -2.2214, -2.2214],\n",
       "          ...,\n",
       "          [-0.9532, -0.8167, -0.6606,  ..., -2.2214, -2.2214, -2.2214],\n",
       "          [-2.2214, -2.2214, -2.2214,  ..., -2.2214, -2.2214, -2.2214],\n",
       "          [-2.2214, -2.2214, -2.2214,  ..., -2.2214, -2.2214, -2.2214]]],\n",
       "\n",
       "\n",
       "        [[[-2.4291, -2.4291, -2.4291,  ..., -2.4291, -2.4291, -2.4291],\n",
       "          [-2.4291, -2.4291, -2.4291,  ..., -2.4291, -2.4291, -2.4291],\n",
       "          [-2.4291, -2.4291, -2.4291,  ..., -2.4291, -2.4291, -2.4291],\n",
       "          ...,\n",
       "          [-2.4291, -2.4291,  1.6805,  ...,  1.9519,  1.8744,  1.8550],\n",
       "          [-2.4291, -2.4291,  1.9325,  ...,  2.3202,  2.1652,  2.0295],\n",
       "          [-2.4291, -2.4291,  1.6999,  ...,  2.1458,  2.2427,  2.0682]],\n",
       "\n",
       "         [[-2.4183, -2.4183, -2.4183,  ..., -2.4183, -2.4183, -2.4183],\n",
       "          [-2.4183, -2.4183, -2.4183,  ..., -2.4183, -2.4183, -2.4183],\n",
       "          [-2.4183, -2.4183, -2.4183,  ..., -2.4183, -2.4183, -2.4183],\n",
       "          ...,\n",
       "          [-2.4183, -2.4183,  0.6694,  ...,  1.0824,  0.9448,  0.9448],\n",
       "          [-2.4183, -2.4183,  1.3381,  ...,  1.8691,  1.6331,  1.4954],\n",
       "          [-2.4183, -2.4183,  1.3578,  ...,  1.8888,  1.9871,  1.8298]],\n",
       "\n",
       "         [[-2.2214, -2.2214, -2.2214,  ..., -2.2214, -2.2214, -2.2214],\n",
       "          [-2.2214, -2.2214, -2.2214,  ..., -2.2214, -2.2214, -2.2214],\n",
       "          [-2.2214, -2.2214, -2.2214,  ..., -2.2214, -2.2214, -2.2214],\n",
       "          ...,\n",
       "          [-2.2214, -2.2214,  0.4320,  ...,  0.8222,  0.6856,  0.6856],\n",
       "          [-2.2214, -2.2214,  0.9978,  ...,  1.4856,  1.2514,  1.1344],\n",
       "          [-2.2214, -2.2214,  0.9783,  ...,  1.4465,  1.5636,  1.3880]]]])"
      ]
     },
     "execution_count": 14,
     "metadata": {},
     "output_type": "execute_result"
    }
   ],
   "source": [
    "i"
   ]
  },
  {
   "cell_type": "code",
   "execution_count": 15,
   "metadata": {},
   "outputs": [
    {
     "name": "stdout",
     "output_type": "stream",
     "text": [
      "Registering model with LeafTrainer...\n",
      "Model state extracted, size: 23574015 parameters\n",
      "Distributing model to 2 servers...\n",
      "Debug: Server gpu-server-1 has hostname: 184.145.155.117 and port: 15835\n",
      "Storing model on server: gpu-server-1\n",
      "✓ Model stored on server gpu-server-1 successfully\n",
      "Debug: Server localhost has hostname:  and port: 0\n",
      "Storing model on server: localhost\n",
      "✓ Model stored locally successfully\n",
      "Model registered successfully! Total models: 1\n"
     ]
    }
   ],
   "source": [
    "model_registered = leaf_trainer.register_model(model)\n",
    "# results\n",
    "# #input, target = trainloader[0]\n",
    "# optimizer = leaf_trainer.register_optimizer(optimizer)\n",
    "\n",
    "# outputs = model(input)\n",
    "# loss = criterion(outputs=outputs, target=target)\n",
    "# loss.backward()\n",
    "# optimizer.step()"
   ]
  },
  {
   "cell_type": "code",
   "execution_count": 16,
   "metadata": {},
   "outputs": [
    {
     "name": "stdout",
     "output_type": "stream",
     "text": [
      "Registering criterion with LeafTrainer...\n",
      "✓ Criterion registered with distributed model successfully!\n",
      "Criterion registered successfully! Total criterions: 1\n"
     ]
    }
   ],
   "source": [
    "criterion_registered = leaf_trainer.register_criterion(model_registered, criterion)"
   ]
  },
  {
   "cell_type": "code",
   "execution_count": 19,
   "metadata": {},
   "outputs": [
    {
     "name": "stdout",
     "output_type": "stream",
     "text": [
      "Debug: Server gpu-server-1 has hostname: 184.145.155.117 and port: 15835\n",
      "Error on server gpu-server-1: Forward pass failed: Server gpu-server-1 forward pass failed: Model with index 0 not found\n",
      "Debug: Server localhost has hostname:  and port: 0\n",
      "Error on server localhost: Forward pass failed: Model with index 0 not found locally\n",
      "Distributed forward completed: 0/2 servers successful\n"
     ]
    },
    {
     "ename": "TypeError",
     "evalue": "__call__(): incompatible function arguments. The following argument types are supported:\n    1. (self: leaf._core.Criterion, arg0: object, arg1: object) -> bool\n\nInvoked with: <leaf._core.Criterion object at 0x1505eed30>; kwargs: outputs=False, target=tensor([8, 3, 5, 7, 0, 4, 9, 2, 2, 8, 7, 3, 4, 3, 6, 8, 4, 4, 4, 0, 9, 0, 8, 7,\n        8, 7, 8, 7, 1, 0, 8, 1, 8, 9, 6, 5, 7, 9, 3, 8, 3, 9, 3, 3, 1, 7, 0, 9,\n        6, 6, 4, 6, 0, 6, 9, 2, 8, 9, 4, 6, 4, 1, 0, 5, 0, 9, 2, 3, 0, 3, 0, 0,\n        7, 0, 9, 9, 6, 3, 3, 8, 1, 2, 7, 1, 0, 7, 1, 5, 9, 6, 1, 0, 4, 2, 3, 8,\n        6, 1, 8, 7, 5, 2, 4, 2, 0, 9, 4, 6, 0, 0, 1, 0, 3, 2, 5, 6, 2, 1, 4, 0,\n        3, 1, 2, 2, 9, 8, 7, 7])",
     "output_type": "error",
     "traceback": [
      "\u001b[31m---------------------------------------------------------------------------\u001b[39m",
      "\u001b[31mTypeError\u001b[39m                                 Traceback (most recent call last)",
      "\u001b[36mCell\u001b[39m\u001b[36m \u001b[39m\u001b[32mIn[19]\u001b[39m\u001b[32m, line 2\u001b[39m\n\u001b[32m      1\u001b[39m results = model_registered(i)\n\u001b[32m----> \u001b[39m\u001b[32m2\u001b[39m \u001b[38;5;28mprint\u001b[39m(\u001b[43mcriterion_registered\u001b[49m\u001b[43m(\u001b[49m\u001b[43moutputs\u001b[49m\u001b[43m=\u001b[49m\u001b[43mresults\u001b[49m\u001b[43m,\u001b[49m\u001b[43m \u001b[49m\u001b[43mtarget\u001b[49m\u001b[43m=\u001b[49m\u001b[43mtarget\u001b[49m\u001b[43m)\u001b[49m)\n",
      "\u001b[31mTypeError\u001b[39m: __call__(): incompatible function arguments. The following argument types are supported:\n    1. (self: leaf._core.Criterion, arg0: object, arg1: object) -> bool\n\nInvoked with: <leaf._core.Criterion object at 0x1505eed30>; kwargs: outputs=False, target=tensor([8, 3, 5, 7, 0, 4, 9, 2, 2, 8, 7, 3, 4, 3, 6, 8, 4, 4, 4, 0, 9, 0, 8, 7,\n        8, 7, 8, 7, 1, 0, 8, 1, 8, 9, 6, 5, 7, 9, 3, 8, 3, 9, 3, 3, 1, 7, 0, 9,\n        6, 6, 4, 6, 0, 6, 9, 2, 8, 9, 4, 6, 4, 1, 0, 5, 0, 9, 2, 3, 0, 3, 0, 0,\n        7, 0, 9, 9, 6, 3, 3, 8, 1, 2, 7, 1, 0, 7, 1, 5, 9, 6, 1, 0, 4, 2, 3, 8,\n        6, 1, 8, 7, 5, 2, 4, 2, 0, 9, 4, 6, 0, 0, 1, 0, 3, 2, 5, 6, 2, 1, 4, 0,\n        3, 1, 2, 2, 9, 8, 7, 7])"
     ]
    }
   ],
   "source": [
    "results = model_registered(i)\n",
    "print(criterion_registered(outputs=results, target=target))"
   ]
  },
  {
   "cell_type": "code",
   "execution_count": null,
   "metadata": {},
   "outputs": [],
   "source": [
    "results = model(i)\n",
    "print(criterion(outputs=results, target=target))"
   ]
  },
  {
   "cell_type": "code",
   "execution_count": null,
   "metadata": {},
   "outputs": [],
   "source": [
    "asdf"
   ]
  },
  {
   "cell_type": "code",
   "execution_count": null,
   "metadata": {},
   "outputs": [],
   "source": [
    "# Training loop\n",
    "def train():\n",
    "    model.train()\n",
    "    running_loss = 0.0\n",
    "    correct = 0\n",
    "    total = 0\n",
    "    \n",
    "    for batch_idx, (inputs, targets) in enumerate(trainloader):\n",
    "        inputs, targets = inputs.to(device), targets.to(device)\n",
    "        \n",
    "        optimizer.zero_grad()\n",
    "        outputs = model(inputs)\n",
    "        loss = criterion(outputs, targets)\n",
    "        loss.backward()\n",
    "        optimizer.step()\n",
    "        \n",
    "        running_loss += loss.item()\n",
    "        _, predicted = outputs.max(1)\n",
    "        total += targets.size(0)\n",
    "        correct += predicted.eq(targets).sum().item()\n",
    "        \n",
    "        if (batch_idx + 1) % 100 == 0:\n",
    "            print(f'Batch: {batch_idx + 1} | Loss: {running_loss/(batch_idx + 1):.3f} | '\n",
    "                  f'Acc: {100.*correct/total:.2f}%')\n",
    "    \n",
    "    return running_loss/len(trainloader), 100.*correct/total"
   ]
  },
  {
   "cell_type": "code",
   "execution_count": null,
   "metadata": {},
   "outputs": [],
   "source": [
    "# Testing loop\n",
    "def test():\n",
    "    model.eval()\n",
    "    test_loss = 0\n",
    "    correct = 0\n",
    "    total = 0\n",
    "    \n",
    "    with torch.no_grad():\n",
    "        for inputs, targets in testloader:\n",
    "            inputs, targets = inputs.to(device), targets.to(device)\n",
    "            outputs = model(inputs)\n",
    "            loss = criterion(outputs, targets)\n",
    "            \n",
    "            test_loss += loss.item()\n",
    "            _, predicted = outputs.max(1)\n",
    "            total += targets.size(0)\n",
    "            correct += predicted.eq(targets).sum().item()\n",
    "    \n",
    "    return test_loss/len(testloader), 100.*correct/total"
   ]
  },
  {
   "cell_type": "code",
   "execution_count": null,
   "metadata": {},
   "outputs": [],
   "source": [
    "# Main training loop\n",
    "print('Starting training...')\n",
    "best_acc = 0\n",
    "for epoch in range(num_epochs):\n",
    "    start_time = time.time()\n",
    "    \n",
    "    train_loss, train_acc = train()\n",
    "    test_loss, test_acc = test()\n",
    "    \n",
    "    scheduler.step(test_loss)\n",
    "    \n",
    "    print(f'\\nEpoch: {epoch + 1}/{num_epochs}')\n",
    "    print(f'Time: {time.time() - start_time:.2f}s')\n",
    "    print(f'Train Loss: {train_loss:.3f} | Train Acc: {train_acc:.2f}%')\n",
    "    print(f'Test Loss: {test_loss:.3f} | Test Acc: {test_acc:.2f}%')\n",
    "    \n",
    "    # Save best model\n",
    "    if test_acc > best_acc:\n",
    "        print('Saving best model...')\n",
    "        state = {\n",
    "            'model': model.state_dict(),\n",
    "            'acc': test_acc,\n",
    "            'epoch': epoch,\n",
    "        }\n",
    "        torch.save(state, 'best_model.pth')\n",
    "        best_acc = test_acc\n",
    "print('Training completed!')"
   ]
  }
 ],
 "metadata": {
  "kernelspec": {
   "display_name": ".venv",
   "language": "python",
   "name": "python3"
  },
  "language_info": {
   "codemirror_mode": {
    "name": "ipython",
    "version": 3
   },
   "file_extension": ".py",
   "mimetype": "text/x-python",
   "name": "python",
   "nbconvert_exporter": "python",
   "pygments_lexer": "ipython3",
   "version": "3.12.11"
  }
 },
 "nbformat": 4,
 "nbformat_minor": 2
}
