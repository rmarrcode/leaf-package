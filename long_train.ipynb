{
 "cells": [
  {
   "cell_type": "code",
   "execution_count": 1,
   "metadata": {},
   "outputs": [
    {
     "name": "stdout",
     "output_type": "stream",
     "text": [
      "Initializing _core module...\n",
      "_core module initialization complete!\n"
     ]
    }
   ],
   "source": [
    "import torch\n",
    "import torch.nn as nn\n",
    "import torch.optim as optim\n",
    "import torchvision\n",
    "import torchvision.transforms as transforms\n",
    "from torch.utils.data import DataLoader\n",
    "from torchvision.models import resnet50\n",
    "import time\n",
    "import wandb\n",
    "#\n",
    "from leaf._core import LeafConfig, LeafTrainer"
   ]
  },
  {
   "cell_type": "code",
   "execution_count": 2,
   "metadata": {},
   "outputs": [],
   "source": [
    "config = LeafConfig()"
   ]
  },
  {
   "cell_type": "code",
   "execution_count": 3,
   "metadata": {},
   "outputs": [
    {
     "name": "stdout",
     "output_type": "stream",
     "text": [
      "SSH connection test successful\n",
      "76.71.171.219 : ssh connection successful\n",
      "Checking for Docker installation...\n",
      "76.71.171.219 :docker verification successful\n",
      "76.71.171.219 : docker daemon verification successful\n",
      "Docker files copied successfully\n",
      "76.71.171.219 : docker files copied successful\n",
      "leaf-grpc-server\n",
      "Building Docker image...\n",
      "#0 building with \"default\" instance using docker driver\n",
      "\n",
      "#1 [internal] load build definition from Dockerfile\n",
      "#1 transferring dockerfile: 1.51kB done\n",
      "#1 DONE 0.0s\n",
      "\n",
      "#2 [internal] load metadata for docker.io/library/ubuntu:22.04\n",
      "#2 DONE 0.2s\n",
      "\n",
      "#3 [internal] load .dockerignore\n",
      "#3 transferring context: 2B done\n",
      "#3 DONE 0.0s\n",
      "\n",
      "#4 [builder  1/13] FROM docker.io/library/ubuntu:22.04@sha256:3c61d3759c2639d4b836d32a2d3c83fa0214e36f195a3421018dbaaf79cbe37f\n",
      "#4 DONE 0.0s\n",
      "\n",
      "#5 [internal] load build context\n",
      "#5 transferring context: 27.81kB done\n",
      "#5 DONE 0.0s\n",
      "\n",
      "#6 [builder  8/13] COPY model.h .\n",
      "#6 CACHED\n",
      "\n",
      "#7 [stage-1 2/6] RUN apt-get update && apt-get install -y     libgrpc++1     libgrpc10     libprotobuf23     python3     python3-pip     && rm -rf /var/lib/apt/lists/*\n",
      "#7 CACHED\n",
      "\n",
      "#8 [builder  6/13] COPY server_communication.h .\n",
      "#8 CACHED\n",
      "\n",
      "#9 [builder  9/13] COPY model.cpp .\n",
      "#9 CACHED\n",
      "\n",
      "#10 [builder  2/13] RUN apt-get update && apt-get install -y     build-essential     protobuf-compiler-grpc     libgrpc++-dev     libprotobuf-dev     python3-dev     python3-pip     && rm -rf /var/lib/apt/lists/*\n",
      "#10 CACHED\n",
      "\n",
      "#11 [builder  3/13] RUN pip3 install pybind11\n",
      "#11 CACHED\n",
      "\n",
      "#12 [stage-1 5/6] COPY --from=builder /src/server_communication ./server_communication\n",
      "#12 CACHED\n",
      "\n",
      "#13 [stage-1 4/6] WORKDIR /app\n",
      "#13 CACHED\n",
      "\n",
      "#14 [builder 11/13] COPY criterion.cpp .\n",
      "#14 CACHED\n",
      "\n",
      "#15 [builder  7/13] COPY server_communication.proto .\n",
      "#15 CACHED\n",
      "\n",
      "#16 [builder 12/13] RUN protoc --cpp_out=. --grpc_out=. --plugin=protoc-gen-grpc=/usr/bin/grpc_cpp_plugin server_communication.proto\n",
      "#16 CACHED\n",
      "\n",
      "#17 [stage-1 3/6] RUN pip3 install pybind11\n",
      "#17 CACHED\n",
      "\n",
      "#18 [builder  4/13] WORKDIR /src\n",
      "#18 CACHED\n",
      "\n",
      "#19 [builder 10/13] COPY criterion.h .\n",
      "#19 CACHED\n",
      "\n",
      "#20 [builder  5/13] COPY server_communication.cpp .\n",
      "#20 CACHED\n",
      "\n",
      "#21 [builder 13/13] RUN g++ -std=c++17 -I/usr/include/python3.10 -I/usr/local/lib/python3.10/dist-packages/pybind11/include server_communication.cpp model.cpp criterion.cpp server_communication.pb.cc server_communication.grpc.pb.cc -lgrpc++ -lprotobuf -lpython3.10 -o server_communication\n",
      "#21 CACHED\n",
      "\n",
      "#22 [stage-1 6/6] RUN chmod +x server_communication\n",
      "#22 CACHED\n",
      "\n",
      "#23 exporting to image\n",
      "#23 exporting layers done\n",
      "#23 writing image sha256:d5ad4dd7faf265f7dae9d361ce625b5567a69007e697562ba6af1ed65aefe77c done\n",
      "#23 naming to docker.io/library/leaf-grpc-server done\n",
      "#23 DONE 0.0s\n",
      "Docker build successful, starting container...\n",
      "c4857756c479a664480e7e175baac223ccb8e066ffbeb5950cc43e73a920e676\n",
      "Docker container started successfully!\n",
      "c4857756c479   leaf-grpc-server   \"./server_communicat…\"   12 seconds ago   Up 11 seconds   127.0.0.1:50051->50051/tcp   leaf-grpc-server\n",
      "76.71.171.219 : docker container built successful\n",
      "SSH tunnel established on port 50053 (PID: 24341)\n",
      "76.71.171.219 : ssh tunnel setup successful\n",
      "76.71.171.219 : grpc connection successful\n",
      "gRPC verification successful\n"
     ]
    }
   ],
   "source": [
    "config.add_server(\n",
    "    server_name=\"gpu-server-1\",\n",
    "    username=\"root\",\n",
    "    hostname=\"76.71.171.219\",\n",
    "    port=56249,  \n",
    ")"
   ]
  },
  {
   "cell_type": "code",
   "execution_count": 4,
   "metadata": {},
   "outputs": [],
   "source": [
    "leaf_trainer = LeafTrainer(config)"
   ]
  },
  {
   "cell_type": "code",
   "execution_count": 5,
   "metadata": {},
   "outputs": [
    {
     "name": "stdout",
     "output_type": "stream",
     "text": [
      "\n",
      "=== Available Servers and Resources ===\n",
      "\n",
      "==================================================\n",
      "Server: gpu-server-1\n",
      "==================================================\n",
      "Status: Connected\n",
      "Type: Remote server\n",
      "Username: root\n",
      "Hostname: 76.71.171.219\n",
      "Port: 56249\n",
      "\n",
      "Available Resources (1):\n",
      "--------------------------------------------------\n",
      "\n",
      "Resource 1:\n",
      "  Name: Quadro P4000\n",
      "  Type: GPU\n",
      "  Properties:\n",
      "    free_memory: 8105 MiB\n",
      "\n",
      "    total_memory: 8192 MiB\n",
      "\n",
      "--------------------------------------------------\n",
      "\n",
      "==================================================\n",
      "Server: localhost\n",
      "==================================================\n",
      "Status: Connected\n",
      "Type: Local machine\n",
      "\n",
      "Available Resources (1):\n",
      "--------------------------------------------------\n",
      "\n",
      "Resource 1:\n",
      "  Name: Apple M1\n",
      "  Type: CPU\n",
      "  Properties:\n",
      "\n",
      "--------------------------------------------------\n",
      "\n",
      "=== End of Server List ===\n",
      "\n"
     ]
    }
   ],
   "source": [
    "config.print_all_resources()"
   ]
  },
  {
   "cell_type": "code",
   "execution_count": 6,
   "metadata": {},
   "outputs": [],
   "source": [
    "leaf_trainer = LeafTrainer(config)"
   ]
  },
  {
   "cell_type": "code",
   "execution_count": 7,
   "metadata": {},
   "outputs": [
    {
     "name": "stdout",
     "output_type": "stream",
     "text": [
      "=== Testing get_gradients_from_server with hardcoded values ===\n",
      "\n",
      "============================================================\n",
      "Testing server: gpu-server-1\n",
      "============================================================\n",
      "Debug: Server gpu-server-1 has hostname: 76.71.171.219 and port: 56249\n",
      "Server type: Remote\n",
      "Connection status: Connected\n",
      "Creating gRPC channel for server 'gpu-server-1' at address: localhost:50053\n",
      "✓ Gradient computation successful!\n",
      "  Loss: 0.5\n",
      "  Gradients size: 3 elements\n",
      "  Sample gradients: 4.59312e+27, 4.58281e+30, 6.88852e+22\n",
      "\n",
      "============================================================\n",
      "Testing server: localhost\n",
      "============================================================\n",
      "Debug: Server localhost has hostname:  and port: 0\n",
      "Server type: Local\n",
      "Connection status: Connected\n",
      "  Computing gradients locally (using GetGradients from server_communication)...\n",
      "  Local computation completed\n",
      "✓ Gradient computation successful!\n",
      "  Loss: 0.5\n",
      "  Gradients size: 3 elements\n",
      "  Sample gradients: 4.59312e+27, 4.58281e+30, 6.88852e+22\n",
      "\n",
      "============================================================\n",
      "Gradient testing with hardcoded values completed!\n",
      "============================================================\n"
     ]
    },
    {
     "data": {
      "text/plain": [
       "{'server_results': [{'server_name': 'gpu-server-1',\n",
       "   'is_local': False,\n",
       "   'is_connected': True,\n",
       "   'success': True,\n",
       "   'loss': 0.5,\n",
       "   'gradients_size': 3,\n",
       "   'gradients': [4.593116492825124e+27,\n",
       "    4.582813224188066e+30,\n",
       "    6.888519090641375e+22]},\n",
       "  {'server_name': 'localhost',\n",
       "   'is_local': True,\n",
       "   'is_connected': True,\n",
       "   'success': True,\n",
       "   'loss': 0.5,\n",
       "   'gradients_size': 3,\n",
       "   'gradients': [4.593116492825124e+27,\n",
       "    4.582813224188066e+30,\n",
       "    6.888519090641375e+22]}],\n",
       " 'total_servers': 2}"
      ]
     },
     "execution_count": 7,
     "metadata": {},
     "output_type": "execute_result"
    }
   ],
   "source": [
    "leaf_trainer.test_with_hardcoded_values()"
   ]
  },
  {
   "cell_type": "code",
   "execution_count": 8,
   "metadata": {},
   "outputs": [],
   "source": [
    "# Set device\n",
    "device = torch.device('cuda' if torch.cuda.is_available() else 'cpu')\n",
    "\n",
    "# Hyperparameters\n",
    "num_epochs = 50\n",
    "batch_size = 128\n",
    "learning_rate = 0.001\n",
    "\n",
    "# Data preprocessing\n",
    "transform_train = transforms.Compose([\n",
    "    transforms.RandomCrop(32, padding=4),\n",
    "    transforms.RandomHorizontalFlip(),\n",
    "    transforms.ToTensor(),\n",
    "    transforms.Normalize((0.4914, 0.4822, 0.4465), (0.2023, 0.1994, 0.2010)),\n",
    "])\n",
    "\n",
    "transform_test = transforms.Compose([\n",
    "    transforms.ToTensor(),\n",
    "    transforms.Normalize((0.4914, 0.4822, 0.4465), (0.2023, 0.1994, 0.2010)),\n",
    "])"
   ]
  },
  {
   "cell_type": "code",
   "execution_count": 9,
   "metadata": {},
   "outputs": [],
   "source": [
    "# Load CIFAR-10 dataset\n",
    "trainset = torchvision.datasets.CIFAR10(root='./data', train=True,\n",
    "                                      download=True, transform=transform_train)\n",
    "trainloader = DataLoader(trainset, batch_size=batch_size,\n",
    "                        shuffle=True, num_workers=2)\n",
    "\n",
    "testset = torchvision.datasets.CIFAR10(root='./data', train=False,\n",
    "                                     download=True, transform=transform_test)\n",
    "testloader = DataLoader(testset, batch_size=batch_size,\n",
    "                       shuffle=False, num_workers=2)"
   ]
  },
  {
   "cell_type": "code",
   "execution_count": 10,
   "metadata": {},
   "outputs": [
    {
     "name": "stderr",
     "output_type": "stream",
     "text": [
      "/Users/ryanmarr/Documents/Subnautica_mod/.venv/lib/python3.12/site-packages/torchvision/models/_utils.py:208: UserWarning: The parameter 'pretrained' is deprecated since 0.13 and may be removed in the future, please use 'weights' instead.\n",
      "  warnings.warn(\n",
      "/Users/ryanmarr/Documents/Subnautica_mod/.venv/lib/python3.12/site-packages/torchvision/models/_utils.py:223: UserWarning: Arguments other than a weight enum or `None` for 'weights' are deprecated since 0.13 and may be removed in the future. The current behavior is equivalent to passing `weights=ResNet50_Weights.IMAGENET1K_V1`. You can also use `weights=ResNet50_Weights.DEFAULT` to get the most up-to-date weights.\n",
      "  warnings.warn(msg)\n"
     ]
    }
   ],
   "source": [
    "# Load pretrained ResNet-50 and modify for CIFAR-10\n",
    "model = resnet50(pretrained=True)\n",
    "model.conv1 = nn.Conv2d(3, 64, kernel_size=3, stride=1, padding=1, bias=False)\n",
    "model.maxpool = nn.Identity()  # Remove maxpool as CIFAR-10 images are small\n",
    "model.fc = nn.Linear(model.fc.in_features, 10)  # Change output to 10 classes\n",
    "model = model.to(device)"
   ]
  },
  {
   "cell_type": "code",
   "execution_count": 11,
   "metadata": {},
   "outputs": [],
   "source": [
    "# run = wandb.init(\n",
    "#     project=\"big-model-example\"\n",
    "# )"
   ]
  },
  {
   "cell_type": "code",
   "execution_count": 12,
   "metadata": {},
   "outputs": [],
   "source": [
    "# Loss function and optimizer\n",
    "criterion = nn.CrossEntropyLoss()\n",
    "optimizer = optim.Adam(model.parameters(), lr=learning_rate)\n",
    "scheduler = optim.lr_scheduler.ReduceLROnPlateau(optimizer, 'min', patience=3)"
   ]
  },
  {
   "cell_type": "code",
   "execution_count": 13,
   "metadata": {},
   "outputs": [
    {
     "name": "stdout",
     "output_type": "stream",
     "text": [
      "0\n"
     ]
    }
   ],
   "source": [
    "for idx, (input, target) in enumerate(trainloader):\n",
    "    print(idx)\n",
    "    if idx == 0:\n",
    "        i = input\n",
    "        break"
   ]
  },
  {
   "cell_type": "code",
   "execution_count": 14,
   "metadata": {},
   "outputs": [
    {
     "data": {
      "text/plain": [
       "tensor([[[[-2.4291, -2.4291, -2.4291,  ..., -2.4291, -2.4291, -2.4291],\n",
       "          [-2.4291, -2.4291, -2.4291,  ..., -2.4291, -2.4291, -2.4291],\n",
       "          [-0.7813, -0.8201, -0.8589,  ..., -2.4291, -2.4291, -2.4291],\n",
       "          ...,\n",
       "          [-2.1964, -2.1577, -2.0026,  ..., -2.4291, -2.4291, -2.4291],\n",
       "          [-2.1383, -2.2352, -2.1383,  ..., -2.4291, -2.4291, -2.4291],\n",
       "          [-2.1964, -2.1577, -2.2158,  ..., -2.4291, -2.4291, -2.4291]],\n",
       "\n",
       "         [[-2.4183, -2.4183, -2.4183,  ..., -2.4183, -2.4183, -2.4183],\n",
       "          [-2.4183, -2.4183, -2.4183,  ..., -2.4183, -2.4183, -2.4183],\n",
       "          [-0.6089, -0.6482, -0.6876,  ..., -2.4183, -2.4183, -2.4183],\n",
       "          ...,\n",
       "          [-2.1823, -2.1429, -1.9856,  ..., -2.4183, -2.4183, -2.4183],\n",
       "          [-2.1233, -2.2216, -2.1233,  ..., -2.4183, -2.4183, -2.4183],\n",
       "          [-2.1823, -2.1429, -2.2019,  ..., -2.4183, -2.4183, -2.4183]],\n",
       "\n",
       "         [[-2.2214, -2.2214, -2.2214,  ..., -2.2214, -2.2214, -2.2214],\n",
       "          [-2.2214, -2.2214, -2.2214,  ..., -2.2214, -2.2214, -2.2214],\n",
       "          [-0.3094, -0.3484, -0.3874,  ..., -2.2214, -2.2214, -2.2214],\n",
       "          ...,\n",
       "          [-1.9873, -1.9482, -1.7922,  ..., -2.2214, -2.2214, -2.2214],\n",
       "          [-1.9287, -2.0263, -1.9287,  ..., -2.2214, -2.2214, -2.2214],\n",
       "          [-1.9873, -1.9482, -2.0068,  ..., -2.2214, -2.2214, -2.2214]]],\n",
       "\n",
       "\n",
       "        [[[-2.4291, -2.4291, -2.4291,  ..., -2.4291, -2.4291, -2.4291],\n",
       "          [-2.4291, -2.4291, -2.4291,  ..., -2.4291, -2.4291, -2.4291],\n",
       "          [-2.4291, -2.4291, -2.4291,  ..., -2.4291, -2.4291, -2.4291],\n",
       "          ...,\n",
       "          [-2.4291, -2.4291, -2.4291,  ...,  0.2267,  0.4981,  0.4787],\n",
       "          [-2.4291, -2.4291, -2.4291,  ...,  0.7307,  0.5368,  0.4399],\n",
       "          [-2.4291, -2.4291, -2.4291,  ...,  1.2928,  1.0408,  1.0214]],\n",
       "\n",
       "         [[-2.4183, -2.4183, -2.4183,  ..., -2.4183, -2.4183, -2.4183],\n",
       "          [-2.4183, -2.4183, -2.4183,  ..., -2.4183, -2.4183, -2.4183],\n",
       "          [-2.4183, -2.4183, -2.4183,  ..., -2.4183, -2.4183, -2.4183],\n",
       "          ...,\n",
       "          [-2.4183, -2.4183, -2.4183,  ..., -1.0612, -0.9039, -0.7662],\n",
       "          [-2.4183, -2.4183, -2.4183,  ..., -0.3139, -0.6876, -0.5696],\n",
       "          [-2.4183, -2.4183, -2.4183,  ...,  0.4531, -0.0189,  0.1188]],\n",
       "\n",
       "         [[-2.2214, -2.2214, -2.2214,  ..., -2.2214, -2.2214, -2.2214],\n",
       "          [-2.2214, -2.2214, -2.2214,  ..., -2.2214, -2.2214, -2.2214],\n",
       "          [-2.2214, -2.2214, -2.2214,  ..., -2.2214, -2.2214, -2.2214],\n",
       "          ...,\n",
       "          [-2.2214, -2.2214, -2.2214,  ..., -0.7191, -0.5045, -0.3094],\n",
       "          [-2.2214, -2.2214, -2.2214,  ...,  0.0028, -0.2509, -0.1338],\n",
       "          [-2.2214, -2.2214, -2.2214,  ...,  0.7832,  0.4125,  0.5296]]],\n",
       "\n",
       "\n",
       "        [[[-1.2660, -1.2854, -1.2272,  ..., -1.1690, -1.1884, -2.4291],\n",
       "          [-1.5567, -1.4986, -1.7118,  ..., -1.4211, -1.4017, -2.4291],\n",
       "          [-1.7312, -1.7312, -1.8281,  ..., -1.8669, -1.9251, -2.4291],\n",
       "          ...,\n",
       "          [-2.4291, -2.4291, -2.4291,  ..., -2.4291, -2.4291, -2.4291],\n",
       "          [-2.4291, -2.4291, -2.4291,  ..., -2.4291, -2.4291, -2.4291],\n",
       "          [-2.4291, -2.4291, -2.4291,  ..., -2.4291, -2.4291, -2.4291]],\n",
       "\n",
       "         [[-0.8842, -0.8842, -0.8449,  ..., -0.8252, -0.8842, -2.4183],\n",
       "          [-1.2186, -1.1596, -1.3956,  ..., -1.1792, -1.1989, -2.4183],\n",
       "          [-1.4546, -1.4546, -1.5726,  ..., -1.7299, -1.7889, -2.4183],\n",
       "          ...,\n",
       "          [-2.4183, -2.4183, -2.4183,  ..., -2.4183, -2.4183, -2.4183],\n",
       "          [-2.4183, -2.4183, -2.4183,  ..., -2.4183, -2.4183, -2.4183],\n",
       "          [-2.4183, -2.4183, -2.4183,  ..., -2.4183, -2.4183, -2.4183]],\n",
       "\n",
       "         [[-0.7776, -0.7776, -0.7191,  ..., -0.5045, -0.4850, -2.2214],\n",
       "          [-1.0898, -1.0313, -1.2459,  ..., -0.8362, -0.7971, -2.2214],\n",
       "          [-1.3044, -1.3044, -1.4020,  ..., -1.4410, -1.4995, -2.2214],\n",
       "          ...,\n",
       "          [-2.2214, -2.2214, -2.2214,  ..., -2.2214, -2.2214, -2.2214],\n",
       "          [-2.2214, -2.2214, -2.2214,  ..., -2.2214, -2.2214, -2.2214],\n",
       "          [-2.2214, -2.2214, -2.2214,  ..., -2.2214, -2.2214, -2.2214]]],\n",
       "\n",
       "\n",
       "        ...,\n",
       "\n",
       "\n",
       "        [[[-0.8977, -0.7620, -0.2580,  ..., -2.4291, -2.4291, -2.4291],\n",
       "          [-0.9364, -1.0915, -0.4712,  ..., -2.4291, -2.4291, -2.4291],\n",
       "          [-0.7620, -0.7620, -0.6263,  ..., -2.4291, -2.4291, -2.4291],\n",
       "          ...,\n",
       "          [ 0.0522, -0.1804, -0.0253,  ..., -2.4291, -2.4291, -2.4291],\n",
       "          [-2.4291, -2.4291, -2.4291,  ..., -2.4291, -2.4291, -2.4291],\n",
       "          [-2.4291, -2.4291, -2.4291,  ..., -2.4291, -2.4291, -2.4291]],\n",
       "\n",
       "         [[-0.8646, -0.7269, -0.2352,  ..., -2.4183, -2.4183, -2.4183],\n",
       "          [-0.9039, -1.0612, -0.4319,  ..., -2.4183, -2.4183, -2.4183],\n",
       "          [-0.7269, -0.7269, -0.5892,  ..., -2.4183, -2.4183, -2.4183],\n",
       "          ...,\n",
       "          [ 0.0794, -0.1566,  0.0401,  ..., -2.4183, -2.4183, -2.4183],\n",
       "          [-2.4183, -2.4183, -2.4183,  ..., -2.4183, -2.4183, -2.4183],\n",
       "          [-2.4183, -2.4183, -2.4183,  ..., -2.4183, -2.4183, -2.4183]],\n",
       "\n",
       "         [[-0.8557, -0.7386, -0.1728,  ..., -2.2214, -2.2214, -2.2214],\n",
       "          [-0.8947, -1.0703, -0.3679,  ..., -2.2214, -2.2214, -2.2214],\n",
       "          [-0.7191, -0.7386, -0.5240,  ..., -2.2214, -2.2214, -2.2214],\n",
       "          ...,\n",
       "          [ 0.3540,  0.1198,  0.3540,  ..., -2.2214, -2.2214, -2.2214],\n",
       "          [-2.2214, -2.2214, -2.2214,  ..., -2.2214, -2.2214, -2.2214],\n",
       "          [-2.2214, -2.2214, -2.2214,  ..., -2.2214, -2.2214, -2.2214]]],\n",
       "\n",
       "\n",
       "        [[[-2.4291, -2.4291, -2.4291,  ..., -2.4291, -2.4291, -2.4291],\n",
       "          [-2.4291, -2.4291, -2.4291,  ..., -2.4291, -2.4291, -2.4291],\n",
       "          [-2.4291, -2.4291, -2.4291,  ..., -2.4291, -2.4291, -2.4291],\n",
       "          ...,\n",
       "          [-0.8783, -0.8783, -0.8783,  ..., -2.4291, -2.4291, -2.4291],\n",
       "          [-0.8783, -0.8783, -0.8783,  ..., -2.4291, -2.4291, -2.4291],\n",
       "          [-0.8395, -0.8395, -0.8395,  ..., -2.4291, -2.4291, -2.4291]],\n",
       "\n",
       "         [[-2.4183, -2.4183, -2.4183,  ..., -2.4183, -2.4183, -2.4183],\n",
       "          [-2.4183, -2.4183, -2.4183,  ..., -2.4183, -2.4183, -2.4183],\n",
       "          [-2.4183, -2.4183, -2.4183,  ..., -2.4183, -2.4183, -2.4183],\n",
       "          ...,\n",
       "          [-0.4712, -0.4712, -0.4712,  ..., -2.4183, -2.4183, -2.4183],\n",
       "          [-0.4909, -0.4909, -0.4516,  ..., -2.4183, -2.4183, -2.4183],\n",
       "          [-0.4516, -0.4319, -0.4319,  ..., -2.4183, -2.4183, -2.4183]],\n",
       "\n",
       "         [[-2.2214, -2.2214, -2.2214,  ..., -2.2214, -2.2214, -2.2214],\n",
       "          [-2.2214, -2.2214, -2.2214,  ..., -2.2214, -2.2214, -2.2214],\n",
       "          [-2.2214, -2.2214, -2.2214,  ..., -2.2214, -2.2214, -2.2214],\n",
       "          ...,\n",
       "          [-0.1533, -0.1533, -0.1533,  ..., -2.2214, -2.2214, -2.2214],\n",
       "          [-0.1728, -0.1533, -0.1338,  ..., -2.2214, -2.2214, -2.2214],\n",
       "          [-0.1728, -0.1338, -0.0948,  ..., -2.2214, -2.2214, -2.2214]]],\n",
       "\n",
       "\n",
       "        [[[-2.4291, -2.4291, -2.4291,  ..., -2.4291, -2.4291, -2.4291],\n",
       "          [-0.7426, -0.7426, -0.7426,  ..., -2.4291, -2.4291, -2.4291],\n",
       "          [-2.0026, -2.0026, -2.0026,  ..., -2.4291, -2.4291, -2.4291],\n",
       "          ...,\n",
       "          [-1.1303, -1.0721, -0.9170,  ..., -2.4291, -2.4291, -2.4291],\n",
       "          [-1.1690, -1.0334, -0.8977,  ..., -2.4291, -2.4291, -2.4291],\n",
       "          [-0.8783, -0.9752, -1.0915,  ..., -2.4291, -2.4291, -2.4291]],\n",
       "\n",
       "         [[-2.4183, -2.4183, -2.4183,  ..., -2.4183, -2.4183, -2.4183],\n",
       "          [-0.7072, -0.7072, -0.7072,  ..., -2.4183, -2.4183, -2.4183],\n",
       "          [-1.9856, -1.9856, -1.9856,  ..., -2.4183, -2.4183, -2.4183],\n",
       "          ...,\n",
       "          [-1.1006, -1.0416, -0.8842,  ..., -2.4183, -2.4183, -2.4183],\n",
       "          [-1.1399, -1.0022, -0.8646,  ..., -2.4183, -2.4183, -2.4183],\n",
       "          [-0.8449, -0.9432, -1.0612,  ..., -2.4183, -2.4183, -2.4183]],\n",
       "\n",
       "         [[-2.2214, -2.2214, -2.2214,  ..., -2.2214, -2.2214, -2.2214],\n",
       "          [-0.5240, -0.5240, -0.5240,  ..., -2.2214, -2.2214, -2.2214],\n",
       "          [-1.7922, -1.7922, -1.7922,  ..., -2.2214, -2.2214, -2.2214],\n",
       "          ...,\n",
       "          [-0.9532, -0.8752, -0.7191,  ..., -2.2214, -2.2214, -2.2214],\n",
       "          [-0.9532, -0.8167, -0.6801,  ..., -2.2214, -2.2214, -2.2214],\n",
       "          [-0.6606, -0.7581, -0.8752,  ..., -2.2214, -2.2214, -2.2214]]]])"
      ]
     },
     "execution_count": 14,
     "metadata": {},
     "output_type": "execute_result"
    }
   ],
   "source": [
    "i"
   ]
  },
  {
   "cell_type": "code",
   "execution_count": 15,
   "metadata": {},
   "outputs": [
    {
     "name": "stdout",
     "output_type": "stream",
     "text": [
      "Registering model with LeafTrainer...\n",
      "Model state extracted, size: 23574015 parameters\n",
      "Distributing model to 2 servers...\n",
      "Debug: Server gpu-server-1 has hostname: 76.71.171.219 and port: 56249\n",
      "Storing model on server: gpu-server-1\n",
      "✓ Model stored on server gpu-server-1 successfully\n",
      "Debug: Server localhost has hostname:  and port: 0\n",
      "Storing model on server: localhost\n",
      "✓ Model stored locally successfully\n",
      "Model registered successfully! Total models: 1\n"
     ]
    }
   ],
   "source": [
    "model_registered = leaf_trainer.register_model(model)\n",
    "# results\n",
    "# #input, target = trainloader[0]\n",
    "# optimizer = leaf_trainer.register_optimizer(optimizer)\n",
    "\n",
    "# outputs = model(input)\n",
    "# loss = criterion(outputs=outputs, target=target)\n",
    "# loss.backward()\n",
    "# optimizer.step()"
   ]
  },
  {
   "cell_type": "code",
   "execution_count": null,
   "metadata": {},
   "outputs": [
    {
     "ename": "AttributeError",
     "evalue": "'leaf._core.LeafTrainer' object has no attribute 'register_criterion'",
     "output_type": "error",
     "traceback": [
      "\u001b[31m---------------------------------------------------------------------------\u001b[39m",
      "\u001b[31mAttributeError\u001b[39m                            Traceback (most recent call last)",
      "\u001b[36mCell\u001b[39m\u001b[36m \u001b[39m\u001b[32mIn[16]\u001b[39m\u001b[32m, line 1\u001b[39m\n\u001b[32m----> \u001b[39m\u001b[32m1\u001b[39m criterion_registered = \u001b[43mleaf_trainer\u001b[49m\u001b[43m.\u001b[49m\u001b[43mregister_criterion\u001b[49m(model_registered, criterion)\n",
      "\u001b[31mAttributeError\u001b[39m: 'leaf._core.LeafTrainer' object has no attribute 'register_criterion'"
     ]
    }
   ],
   "source": [
    "#criterion_registered = leaf_trainer.register_criterion(model_registered, criterion)"
   ]
  },
  {
   "cell_type": "code",
   "execution_count": 17,
   "metadata": {},
   "outputs": [
    {
     "name": "stdout",
     "output_type": "stream",
     "text": [
      "Debug: Server gpu-server-1 has hostname: 76.71.171.219 and port: 56249\n",
      "Error on server gpu-server-1: Forward pass failed: Forward pass RPC failed for server gpu-server-1: Socket closed\n",
      "Debug: Server localhost has hostname:  and port: 0\n",
      "Error on server localhost: Forward pass failed: Model with index 0 not found locally\n",
      "Distributed forward completed: 0/2 servers successful\n"
     ]
    }
   ],
   "source": [
    "results = model_registered(i)\n",
    "#print(criterion_registered(outputs=results, target=target))"
   ]
  },
  {
   "cell_type": "code",
   "execution_count": null,
   "metadata": {},
   "outputs": [],
   "source": [
    "results = model(i)\n",
    "print(criterion(outputs=results, target=target))"
   ]
  },
  {
   "cell_type": "code",
   "execution_count": null,
   "metadata": {},
   "outputs": [],
   "source": [
    "asdf"
   ]
  },
  {
   "cell_type": "code",
   "execution_count": null,
   "metadata": {},
   "outputs": [],
   "source": [
    "# Training loop\n",
    "def train():\n",
    "    model.train()\n",
    "    running_loss = 0.0\n",
    "    correct = 0\n",
    "    total = 0\n",
    "    \n",
    "    for batch_idx, (inputs, targets) in enumerate(trainloader):\n",
    "        inputs, targets = inputs.to(device), targets.to(device)\n",
    "        \n",
    "        optimizer.zero_grad()\n",
    "        outputs = model(inputs)\n",
    "        loss = criterion(outputs, targets)\n",
    "        loss.backward()\n",
    "        optimizer.step()\n",
    "        \n",
    "        running_loss += loss.item()\n",
    "        _, predicted = outputs.max(1)\n",
    "        total += targets.size(0)\n",
    "        correct += predicted.eq(targets).sum().item()\n",
    "        \n",
    "        if (batch_idx + 1) % 100 == 0:\n",
    "            print(f'Batch: {batch_idx + 1} | Loss: {running_loss/(batch_idx + 1):.3f} | '\n",
    "                  f'Acc: {100.*correct/total:.2f}%')\n",
    "    \n",
    "    return running_loss/len(trainloader), 100.*correct/total"
   ]
  },
  {
   "cell_type": "code",
   "execution_count": null,
   "metadata": {},
   "outputs": [],
   "source": [
    "# Testing loop\n",
    "def test():\n",
    "    model.eval()\n",
    "    test_loss = 0\n",
    "    correct = 0\n",
    "    total = 0\n",
    "    \n",
    "    with torch.no_grad():\n",
    "        for inputs, targets in testloader:\n",
    "            inputs, targets = inputs.to(device), targets.to(device)\n",
    "            outputs = model(inputs)\n",
    "            loss = criterion(outputs, targets)\n",
    "            \n",
    "            test_loss += loss.item()\n",
    "            _, predicted = outputs.max(1)\n",
    "            total += targets.size(0)\n",
    "            correct += predicted.eq(targets).sum().item()\n",
    "    \n",
    "    return test_loss/len(testloader), 100.*correct/total"
   ]
  },
  {
   "cell_type": "code",
   "execution_count": null,
   "metadata": {},
   "outputs": [],
   "source": [
    "# Main training loop\n",
    "print('Starting training...')\n",
    "best_acc = 0\n",
    "for epoch in range(num_epochs):\n",
    "    start_time = time.time()\n",
    "    \n",
    "    train_loss, train_acc = train()\n",
    "    test_loss, test_acc = test()\n",
    "    \n",
    "    scheduler.step(test_loss)\n",
    "    \n",
    "    print(f'\\nEpoch: {epoch + 1}/{num_epochs}')\n",
    "    print(f'Time: {time.time() - start_time:.2f}s')\n",
    "    print(f'Train Loss: {train_loss:.3f} | Train Acc: {train_acc:.2f}%')\n",
    "    print(f'Test Loss: {test_loss:.3f} | Test Acc: {test_acc:.2f}%')\n",
    "    \n",
    "    # Save best model\n",
    "    if test_acc > best_acc:\n",
    "        print('Saving best model...')\n",
    "        state = {\n",
    "            'model': model.state_dict(),\n",
    "            'acc': test_acc,\n",
    "            'epoch': epoch,\n",
    "        }\n",
    "        torch.save(state, 'best_model.pth')\n",
    "        best_acc = test_acc\n",
    "print('Training completed!')"
   ]
  }
 ],
 "metadata": {
  "kernelspec": {
   "display_name": ".venv",
   "language": "python",
   "name": "python3"
  },
  "language_info": {
   "codemirror_mode": {
    "name": "ipython",
    "version": 3
   },
   "file_extension": ".py",
   "mimetype": "text/x-python",
   "name": "python",
   "nbconvert_exporter": "python",
   "pygments_lexer": "ipython3",
   "version": "3.12.11"
  }
 },
 "nbformat": 4,
 "nbformat_minor": 2
}
