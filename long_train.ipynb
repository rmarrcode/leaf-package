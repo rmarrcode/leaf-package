{
 "cells": [
  {
   "cell_type": "code",
   "execution_count": 1,
   "metadata": {},
   "outputs": [
    {
     "name": "stdout",
     "output_type": "stream",
     "text": [
      "Initializing _core module...\n",
      "_core module initialization complete!\n"
     ]
    }
   ],
   "source": [
    "import torch\n",
    "import torch.nn as nn\n",
    "import torch.optim as optim\n",
    "import torchvision\n",
    "import torchvision.transforms as transforms\n",
    "from torch.utils.data import DataLoader\n",
    "from torchvision.models import resnet50\n",
    "import time\n",
    "import wandb\n",
    "#\n",
    "from leaf._core import LeafConfig, LeafTrainer"
   ]
  },
  {
   "cell_type": "code",
   "execution_count": 2,
   "metadata": {},
   "outputs": [],
   "source": [
    "config = LeafConfig()"
   ]
  },
  {
   "cell_type": "code",
   "execution_count": 3,
   "metadata": {},
   "outputs": [
    {
     "name": "stdout",
     "output_type": "stream",
     "text": [
      "Adding server: gpu-server-1 with hostname: 174.93.255.152 and port: 35495\n",
      "SSH connection test successful\n",
      "174.93.255.152 : ssh connection successful\n",
      "Checking for Docker installation...\n",
      "174.93.255.152 :docker verification successful\n",
      "174.93.255.152 : docker daemon verification successful\n",
      "Docker files copied successfully\n",
      "174.93.255.152 : docker files copied successful\n",
      "leaf-grpc-server\n",
      "Building Docker image...\n",
      "#0 building with \"default\" instance using docker driver\n",
      "\n",
      "#1 [internal] load build definition from Dockerfile\n",
      "#1 transferring dockerfile: 1.46kB done\n",
      "#1 DONE 0.0s\n",
      "\n",
      "#2 [internal] load metadata for docker.io/library/ubuntu:22.04\n",
      "#2 DONE 0.1s\n",
      "\n",
      "#3 [internal] load .dockerignore\n",
      "#3 transferring context: 2B done\n",
      "#3 DONE 0.0s\n",
      "\n",
      "#4 [builder  1/11] FROM docker.io/library/ubuntu:22.04@sha256:3c61d3759c2639d4b836d32a2d3c83fa0214e36f195a3421018dbaaf79cbe37f\n",
      "#4 DONE 0.0s\n",
      "\n",
      "#5 [internal] load build context\n",
      "#5 transferring context: 17.06kB done\n",
      "#5 DONE 0.0s\n",
      "\n",
      "#6 [stage-1 4/6] WORKDIR /app\n",
      "#6 CACHED\n",
      "\n",
      "#7 [stage-1 3/6] RUN pip3 install pybind11\n",
      "#7 CACHED\n",
      "\n",
      "#8 [builder  2/11] RUN apt-get update && apt-get install -y     build-essential     protobuf-compiler-grpc     libgrpc++-dev     libprotobuf-dev     python3-dev     python3-pip     && rm -rf /var/lib/apt/lists/*\n",
      "#8 CACHED\n",
      "\n",
      "#9 [builder  8/11] COPY model.h .\n",
      "#9 CACHED\n",
      "\n",
      "#10 [builder  4/11] WORKDIR /src\n",
      "#10 CACHED\n",
      "\n",
      "#11 [builder  7/11] COPY server_communication.proto .\n",
      "#11 CACHED\n",
      "\n",
      "#12 [builder 11/11] RUN g++ -std=c++17 -I/usr/include/python3.10 -I/usr/local/lib/python3.10/dist-packages/pybind11/include server_communication.cpp model.cpp server_communication.pb.cc server_communication.grpc.pb.cc -lgrpc++ -lprotobuf -lpython3.10 -o server_communication\n",
      "#12 CACHED\n",
      "\n",
      "#13 [stage-1 2/6] RUN apt-get update && apt-get install -y     libgrpc++1     libgrpc10     libprotobuf23     python3     python3-pip     && rm -rf /var/lib/apt/lists/*\n",
      "#13 CACHED\n",
      "\n",
      "#14 [builder  9/11] COPY model.cpp .\n",
      "#14 CACHED\n",
      "\n",
      "#15 [stage-1 5/6] COPY --from=builder /src/server_communication ./server_communication\n",
      "#15 CACHED\n",
      "\n",
      "#16 [builder  5/11] COPY server_communication.cpp .\n",
      "#16 CACHED\n",
      "\n",
      "#17 [builder  3/11] RUN pip3 install pybind11\n",
      "#17 CACHED\n",
      "\n",
      "#18 [builder  6/11] COPY server_communication.h .\n",
      "#18 CACHED\n",
      "\n",
      "#19 [builder 10/11] RUN protoc --cpp_out=. --grpc_out=. --plugin=protoc-gen-grpc=/usr/bin/grpc_cpp_plugin server_communication.proto\n",
      "#19 CACHED\n",
      "\n",
      "#20 [stage-1 6/6] RUN chmod +x server_communication\n",
      "#20 CACHED\n",
      "\n",
      "#21 exporting to image\n",
      "#21 exporting layers done\n",
      "#21 writing image sha256:856ece0ccc54304d8500529ee8683ffb0c570af6c9028dcb6f424bf93f437c13 done\n",
      "#21 naming to docker.io/library/leaf-grpc-server done\n",
      "#21 DONE 0.0s\n",
      "Docker build successful, starting container...\n",
      "8306cd2df56fd91a76db6f389c7f291918c0dcfa5bc432d41422d0802c0d2753\n",
      "Docker container started successfully!\n",
      "8306cd2df56f   leaf-grpc-server   \"./server_communicat…\"   12 seconds ago   Up 11 seconds   127.0.0.1:50051->50051/tcp   leaf-grpc-server\n",
      "174.93.255.152 : docker container built successful\n",
      "SSH tunnel established on port 50051 (PID: 28307)\n",
      "174.93.255.152 : ssh tunnel setup successful\n",
      "174.93.255.152 : grpc connection successful\n",
      "gRPC verification successful\n",
      "Server gpu-server-1 added successfully\n"
     ]
    }
   ],
   "source": [
    "config.add_server(\n",
    "    server_name=\"gpu-server-1\",\n",
    "    username=\"root\",\n",
    "    hostname=\"174.93.255.152\",\n",
    "    port=35495,  \n",
    ")"
   ]
  },
  {
   "cell_type": "code",
   "execution_count": 4,
   "metadata": {},
   "outputs": [],
   "source": [
    "leaf_trainer = LeafTrainer(config)"
   ]
  },
  {
   "cell_type": "code",
   "execution_count": 5,
   "metadata": {},
   "outputs": [
    {
     "name": "stdout",
     "output_type": "stream",
     "text": [
      "\n",
      "=== Available Servers and Resources ===\n",
      "\n",
      "==================================================\n",
      "Server: gpu-server-1\n",
      "==================================================\n",
      "Status: Connected\n",
      "Type: Remote server\n",
      "Username: root\n",
      "Hostname: 174.93.255.152\n",
      "Port: 35495\n",
      "\n",
      "Available Resources (1):\n",
      "--------------------------------------------------\n",
      "\n",
      "Resource 1:\n",
      "  Name: NVIDIA GeForce GTX 1660 SUPER\n",
      "  Type: GPU\n",
      "  Properties:\n",
      "    free_memory: 5749 MiB\n",
      "\n",
      "    total_memory: 6144 MiB\n",
      "\n",
      "--------------------------------------------------\n",
      "\n",
      "==================================================\n",
      "Server: localhost\n",
      "==================================================\n",
      "Status: Connected\n",
      "Type: Local machine\n",
      "\n",
      "Available Resources (1):\n",
      "--------------------------------------------------\n",
      "\n",
      "Resource 1:\n",
      "  Name: Apple M1\n",
      "  Type: CPU\n",
      "  Properties:\n",
      "\n",
      "--------------------------------------------------\n",
      "\n",
      "=== End of Server List ===\n",
      "\n"
     ]
    }
   ],
   "source": [
    "config.print_all_resources()"
   ]
  },
  {
   "cell_type": "code",
   "execution_count": 6,
   "metadata": {},
   "outputs": [
    {
     "name": "stdout",
     "output_type": "stream",
     "text": [
      "Cleaning up 0 registered models...\n",
      "Model cleanup completed.\n"
     ]
    }
   ],
   "source": [
    "leaf_trainer = LeafTrainer(config)"
   ]
  },
  {
   "cell_type": "code",
   "execution_count": 7,
   "metadata": {},
   "outputs": [
    {
     "name": "stdout",
     "output_type": "stream",
     "text": [
      "=== Testing get_gradients_from_server with hardcoded values ===\n",
      "\n",
      "============================================================\n",
      "Testing server: gpu-server-1\n",
      "============================================================\n",
      "Debug: Server gpu-server-1 has hostname: 174.93.255.152 and port: 35495\n",
      "Server type: Remote\n",
      "Connection status: Connected\n",
      "Creating gRPC channel for server 'gpu-server-1' at address: localhost:50051\n",
      "✓ Gradient computation successful!\n",
      "  Loss: 0.5\n",
      "  Gradients size: 3 elements\n",
      "  Sample gradients: 4.59312e+27, 4.58281e+30, 6.88852e+22\n",
      "\n",
      "============================================================\n",
      "Testing server: localhost\n",
      "============================================================\n",
      "Debug: Server localhost has hostname:  and port: 0\n",
      "Server type: Local\n",
      "Connection status: Connected\n",
      "  Computing gradients locally (using GetGradients from server_communication)...\n",
      "  Local computation completed\n",
      "✓ Gradient computation successful!\n",
      "  Loss: 0.5\n",
      "  Gradients size: 3 elements\n",
      "  Sample gradients: 4.59312e+27, 4.58281e+30, 6.88852e+22\n",
      "\n",
      "============================================================\n",
      "Gradient testing with hardcoded values completed!\n",
      "============================================================\n"
     ]
    },
    {
     "data": {
      "text/plain": [
       "{'server_results': [{'server_name': 'gpu-server-1',\n",
       "   'is_local': False,\n",
       "   'is_connected': True,\n",
       "   'success': True,\n",
       "   'loss': 0.5,\n",
       "   'gradients_size': 3,\n",
       "   'gradients': [4.593116492825124e+27,\n",
       "    4.582813224188066e+30,\n",
       "    6.888519090641375e+22]},\n",
       "  {'server_name': 'localhost',\n",
       "   'is_local': True,\n",
       "   'is_connected': True,\n",
       "   'success': True,\n",
       "   'loss': 0.5,\n",
       "   'gradients_size': 3,\n",
       "   'gradients': [4.593116492825124e+27,\n",
       "    4.582813224188066e+30,\n",
       "    6.888519090641375e+22]}],\n",
       " 'total_servers': 2}"
      ]
     },
     "execution_count": 7,
     "metadata": {},
     "output_type": "execute_result"
    }
   ],
   "source": [
    "leaf_trainer.test_with_hardcoded_values()"
   ]
  },
  {
   "cell_type": "code",
   "execution_count": 8,
   "metadata": {},
   "outputs": [],
   "source": [
    "# Set device\n",
    "device = torch.device('cuda' if torch.cuda.is_available() else 'cpu')\n",
    "\n",
    "# Hyperparameters\n",
    "num_epochs = 50\n",
    "batch_size = 128\n",
    "learning_rate = 0.001\n",
    "\n",
    "# Data preprocessing\n",
    "transform_train = transforms.Compose([\n",
    "    transforms.RandomCrop(32, padding=4),\n",
    "    transforms.RandomHorizontalFlip(),\n",
    "    transforms.ToTensor(),\n",
    "    transforms.Normalize((0.4914, 0.4822, 0.4465), (0.2023, 0.1994, 0.2010)),\n",
    "])\n",
    "\n",
    "transform_test = transforms.Compose([\n",
    "    transforms.ToTensor(),\n",
    "    transforms.Normalize((0.4914, 0.4822, 0.4465), (0.2023, 0.1994, 0.2010)),\n",
    "])"
   ]
  },
  {
   "cell_type": "code",
   "execution_count": 9,
   "metadata": {},
   "outputs": [],
   "source": [
    "# Load CIFAR-10 dataset\n",
    "trainset = torchvision.datasets.CIFAR10(root='./data', train=True,\n",
    "                                      download=True, transform=transform_train)\n",
    "trainloader = DataLoader(trainset, batch_size=batch_size,\n",
    "                        shuffle=True, num_workers=2)\n",
    "\n",
    "testset = torchvision.datasets.CIFAR10(root='./data', train=False,\n",
    "                                     download=True, transform=transform_test)\n",
    "testloader = DataLoader(testset, batch_size=batch_size,\n",
    "                       shuffle=False, num_workers=2)"
   ]
  },
  {
   "cell_type": "code",
   "execution_count": 10,
   "metadata": {},
   "outputs": [
    {
     "name": "stderr",
     "output_type": "stream",
     "text": [
      "/Users/ryanmarr/Documents/Subnautica_mod/.venv/lib/python3.12/site-packages/torchvision/models/_utils.py:208: UserWarning: The parameter 'pretrained' is deprecated since 0.13 and may be removed in the future, please use 'weights' instead.\n",
      "  warnings.warn(\n",
      "/Users/ryanmarr/Documents/Subnautica_mod/.venv/lib/python3.12/site-packages/torchvision/models/_utils.py:223: UserWarning: Arguments other than a weight enum or `None` for 'weights' are deprecated since 0.13 and may be removed in the future. The current behavior is equivalent to passing `weights=ResNet50_Weights.IMAGENET1K_V1`. You can also use `weights=ResNet50_Weights.DEFAULT` to get the most up-to-date weights.\n",
      "  warnings.warn(msg)\n"
     ]
    }
   ],
   "source": [
    "# Load pretrained ResNet-50 and modify for CIFAR-10\n",
    "model = resnet50(pretrained=True)\n",
    "model.conv1 = nn.Conv2d(3, 64, kernel_size=3, stride=1, padding=1, bias=False)\n",
    "model.maxpool = nn.Identity()  # Remove maxpool as CIFAR-10 images are small\n",
    "model.fc = nn.Linear(model.fc.in_features, 10)  # Change output to 10 classes\n",
    "model = model.to(device)"
   ]
  },
  {
   "cell_type": "code",
   "execution_count": 11,
   "metadata": {},
   "outputs": [],
   "source": [
    "# run = wandb.init(\n",
    "#     project=\"big-model-example\"\n",
    "# )"
   ]
  },
  {
   "cell_type": "code",
   "execution_count": 12,
   "metadata": {},
   "outputs": [],
   "source": [
    "# Loss function and optimizer\n",
    "criterion = nn.CrossEntropyLoss()\n",
    "optimizer = optim.Adam(model.parameters(), lr=learning_rate)\n",
    "scheduler = optim.lr_scheduler.ReduceLROnPlateau(optimizer, 'min', patience=3)"
   ]
  },
  {
   "cell_type": "code",
   "execution_count": 13,
   "metadata": {},
   "outputs": [
    {
     "name": "stdout",
     "output_type": "stream",
     "text": [
      "0\n"
     ]
    }
   ],
   "source": [
    "for idx, (input, target) in enumerate(trainloader):\n",
    "    print(idx)\n",
    "    if idx == 0:\n",
    "        i = input\n",
    "        break"
   ]
  },
  {
   "cell_type": "code",
   "execution_count": 14,
   "metadata": {},
   "outputs": [
    {
     "data": {
      "text/plain": [
       "tensor([[[[-2.4291, -2.4291, -0.4712,  ..., -0.1029, -0.1223, -0.1804],\n",
       "          [-2.4291, -2.4291, -0.3355,  ..., -0.0060, -0.0253, -0.0641],\n",
       "          [-2.4291, -2.4291, -0.2386,  ...,  0.0910,  0.0716,  0.0328],\n",
       "          ...,\n",
       "          [-2.4291, -2.4291,  1.2541,  ..., -1.6731, -1.7700, -0.8589],\n",
       "          [-2.4291, -2.4291,  1.2347,  ..., -0.1416,  0.6725,  1.3122],\n",
       "          [-2.4291, -2.4291,  1.2153,  ...,  1.5255,  1.6805,  1.6612]],\n",
       "\n",
       "         [[-2.4183, -2.4183,  0.4924,  ...,  0.7678,  0.7481,  0.7284],\n",
       "          [-2.4183, -2.4183,  0.5908,  ...,  0.8858,  0.8661,  0.8268],\n",
       "          [-2.4183, -2.4183,  0.6694,  ...,  0.9841,  0.9644,  0.9054],\n",
       "          ...,\n",
       "          [-2.4183, -2.4183,  1.3381,  ..., -1.4742, -1.5726, -0.6679],\n",
       "          [-2.4183, -2.4183,  1.2988,  ...,  0.1384,  0.9448,  1.4758],\n",
       "          [-2.4183, -2.4183,  1.2791,  ...,  1.7118,  1.8691,  1.8298]],\n",
       "\n",
       "         [[-2.2214, -2.2214,  1.6221,  ...,  1.8563,  1.8367,  1.7977],\n",
       "          [-2.2214, -2.2214,  1.7197,  ...,  1.9343,  1.9148,  1.8758],\n",
       "          [-2.2214, -2.2214,  1.7392,  ...,  1.9928,  1.9733,  1.9343],\n",
       "          ...,\n",
       "          [-2.2214, -2.2214,  1.4856,  ..., -1.3239, -1.4020, -0.5045],\n",
       "          [-2.2214, -2.2214,  1.4661,  ...,  0.2954,  1.1149,  1.6221],\n",
       "          [-2.2214, -2.2214,  1.4270,  ...,  1.8367,  2.0123,  1.9538]]],\n",
       "\n",
       "\n",
       "        [[[-2.4291, -2.4291, -2.4291,  ..., -2.4291, -2.4291, -2.4291],\n",
       "          [-2.4291,  2.5141,  2.4172,  ...,  2.5141,  2.5141,  2.5141],\n",
       "          [-2.4291,  2.4559,  2.5141,  ...,  2.2427,  2.1845,  2.2427],\n",
       "          ...,\n",
       "          [-2.4291,  2.3784,  2.3202,  ...,  1.4091,  2.0682,  2.0682],\n",
       "          [-2.4291,  2.4365,  2.3396,  ...,  1.8162,  2.3784,  2.3396],\n",
       "          [-2.4291,  2.3590,  2.3978,  ...,  1.7193,  2.0876,  2.1845]],\n",
       "\n",
       "         [[-2.4183, -2.4183, -2.4183,  ..., -2.4183, -2.4183, -2.4183],\n",
       "          [-2.4183,  2.5968,  2.5181,  ...,  2.5968,  2.5968,  2.5968],\n",
       "          [-2.4183,  2.5378,  2.5968,  ...,  2.2625,  2.1445,  2.2231],\n",
       "          ...,\n",
       "          [-2.4183,  1.8101,  1.6921,  ...,  0.9841,  1.6331,  1.6921],\n",
       "          [-2.4183,  1.9675,  1.8298,  ...,  1.2988,  1.8495,  1.8495],\n",
       "          [-2.4183,  1.9085,  1.9871,  ...,  1.1808,  1.5348,  1.6134]],\n",
       "\n",
       "         [[-2.2214, -2.2214, -2.2214,  ..., -2.2214, -2.2214, -2.2214],\n",
       "          [-2.2214,  2.6367,  2.4416,  ...,  2.7342,  2.6952,  2.6562],\n",
       "          [-2.2214,  2.3440,  2.3245,  ...,  2.1684,  2.1294,  2.1489],\n",
       "          ...,\n",
       "          [-2.2214,  1.1539,  1.0563,  ...,  0.6856,  1.0954,  1.2319],\n",
       "          [-2.2214,  1.3490,  1.2124,  ...,  0.9003,  1.2709,  1.2709],\n",
       "          [-2.2214,  1.2905,  1.3295,  ...,  0.7442,  0.9783,  1.0563]]],\n",
       "\n",
       "\n",
       "        [[[-2.4291, -2.4291, -2.4291,  ..., -2.4291, -2.4291, -2.4291],\n",
       "          [-2.4291, -2.4291, -2.4291,  ..., -2.4291, -2.4291, -2.4291],\n",
       "          [-2.4291, -2.4291, -2.4291,  ..., -2.4291, -2.4291, -2.4291],\n",
       "          ...,\n",
       "          [ 2.0295,  2.1458,  2.3009,  ...,  1.9713,  2.2815, -2.4291],\n",
       "          [ 2.1458,  2.1264,  2.0295,  ...,  1.4867,  1.8938, -2.4291],\n",
       "          [ 2.1845,  2.2039,  2.2039,  ...,  1.4285,  1.3122, -2.4291]],\n",
       "\n",
       "         [[-2.4183, -2.4183, -2.4183,  ..., -2.4183, -2.4183, -2.4183],\n",
       "          [-2.4183, -2.4183, -2.4183,  ..., -2.4183, -2.4183, -2.4183],\n",
       "          [-2.4183, -2.4183, -2.4183,  ..., -2.4183, -2.4183, -2.4183],\n",
       "          ...,\n",
       "          [ 2.1838,  2.3018,  2.4591,  ...,  2.0068,  2.2821, -2.4183],\n",
       "          [ 2.2625,  2.2231,  2.1248,  ...,  1.5151,  1.8888, -2.4183],\n",
       "          [ 2.2428,  2.2625,  2.2428,  ...,  1.4561,  1.2988, -2.4183]],\n",
       "\n",
       "         [[-2.2214, -2.2214, -2.2214,  ..., -2.2214, -2.2214, -2.2214],\n",
       "          [-2.2214, -2.2214, -2.2214,  ..., -2.2214, -2.2214, -2.2214],\n",
       "          [-2.2214, -2.2214, -2.2214,  ..., -2.2214, -2.2214, -2.2214],\n",
       "          ...,\n",
       "          [ 2.2465,  2.4025,  2.5781,  ...,  1.9343,  2.1684, -2.2214],\n",
       "          [ 2.3440,  2.3635,  2.3050,  ...,  1.4075,  1.7587, -2.2214],\n",
       "          [ 2.4025,  2.4611,  2.4806,  ...,  1.3685,  1.2124, -2.2214]]],\n",
       "\n",
       "\n",
       "        ...,\n",
       "\n",
       "\n",
       "        [[[-2.4291, -2.4291, -2.4291,  ..., -2.4291, -2.4291, -2.4291],\n",
       "          [-2.4291, -2.4291, -2.4291,  ..., -2.4291, -2.4291, -2.4291],\n",
       "          [-2.4291, -2.4291, -2.4291,  ..., -2.4291, -2.4291, -2.4291],\n",
       "          ...,\n",
       "          [-2.4291, -2.4291, -0.4712,  ..., -0.3743, -0.3161, -0.3549],\n",
       "          [-2.4291, -2.4291, -0.6069,  ..., -0.2967, -0.3355, -0.4130],\n",
       "          [-2.4291, -2.4291, -0.8007,  ..., -0.3355, -0.3936, -0.4324]],\n",
       "\n",
       "         [[-2.4183, -2.4183, -2.4183,  ..., -2.4183, -2.4183, -2.4183],\n",
       "          [-2.4183, -2.4183, -2.4183,  ..., -2.4183, -2.4183, -2.4183],\n",
       "          [-2.4183, -2.4183, -2.4183,  ..., -2.4183, -2.4183, -2.4183],\n",
       "          ...,\n",
       "          [-2.4183, -2.4183, -0.7072,  ..., -0.6876, -0.6286, -0.6679],\n",
       "          [-2.4183, -2.4183, -0.8842,  ..., -0.6089, -0.6482, -0.7269],\n",
       "          [-2.4183, -2.4183, -1.0809,  ..., -0.6482, -0.7072, -0.7466]],\n",
       "\n",
       "         [[-2.2214, -2.2214, -2.2214,  ..., -2.2214, -2.2214, -2.2214],\n",
       "          [-2.2214, -2.2214, -2.2214,  ..., -2.2214, -2.2214, -2.2214],\n",
       "          [-2.2214, -2.2214, -2.2214,  ..., -2.2214, -2.2214, -2.2214],\n",
       "          ...,\n",
       "          [-2.2214, -2.2214, -0.7581,  ..., -0.9142, -0.8362, -0.8947],\n",
       "          [-2.2214, -2.2214, -0.9532,  ..., -0.8557, -0.8947, -0.9727],\n",
       "          [-2.2214, -2.2214, -1.1483,  ..., -0.8947, -0.9532, -0.9922]]],\n",
       "\n",
       "\n",
       "        [[[ 0.7501,  0.2461, -0.6650,  ..., -0.9752, -0.3355, -2.4291],\n",
       "          [ 0.3236, -0.3743, -0.4518,  ..., -1.5761, -0.0835, -2.4291],\n",
       "          [-0.4712, -0.7620, -0.7232,  ..., -2.0995, -1.1303, -2.4291],\n",
       "          ...,\n",
       "          [ 0.7694,  0.6725,  0.6725,  ..., -0.8589, -0.4518, -2.4291],\n",
       "          [ 1.2347,  1.1378,  1.1571,  ..., -0.0835, -0.5293, -2.4291],\n",
       "          [ 1.1571,  1.0408,  1.0021,  ...,  0.5562, -0.1804, -2.4291]],\n",
       "\n",
       "         [[ 0.8464,  0.2368, -0.7466,  ..., -1.2579, -0.6089, -2.4183],\n",
       "          [ 0.2958, -0.4712, -0.6089,  ..., -1.6709, -0.2352, -2.4183],\n",
       "          [-0.6482, -0.9826, -1.0219,  ..., -2.0839, -1.2579, -2.4183],\n",
       "          ...,\n",
       "          [ 0.8268,  0.9644,  1.1414,  ..., -1.2972, -1.0219, -2.4183],\n",
       "          [ 1.3578,  1.4168,  1.5348,  ..., -0.4712, -1.0416, -2.4183],\n",
       "          [ 1.2791,  1.2594,  1.2988,  ...,  0.5711, -0.2352, -2.4183]],\n",
       "\n",
       "         [[-0.0167, -0.6606, -1.4020,  ..., -1.6946, -1.4020, -2.2214],\n",
       "          [-0.5825, -1.1678, -1.4020,  ..., -1.8312, -0.8947, -2.2214],\n",
       "          [-1.3044, -1.3825, -1.5190,  ..., -2.1629, -1.4800, -2.2214],\n",
       "          ...,\n",
       "          [ 0.3540,  0.5881,  0.8222,  ..., -1.4605, -1.2264, -2.2214],\n",
       "          [ 0.9003,  0.9978,  1.1929,  ..., -0.7776, -1.2654, -2.2214],\n",
       "          [ 0.8612,  0.8417,  0.9393,  ...,  0.3149, -0.3484, -2.2214]]],\n",
       "\n",
       "\n",
       "        [[[-2.4291, -2.4291, -2.4291,  ..., -2.4291, -2.4291, -2.4291],\n",
       "          [-2.4291, -2.4291, -2.4291,  ..., -2.4291, -2.4291, -2.4291],\n",
       "          [-2.4291, -2.4291, -2.4291,  ..., -2.4291, -2.4291, -2.4291],\n",
       "          ...,\n",
       "          [-2.4291,  2.5141,  2.5141,  ...,  2.5141,  2.5141,  2.5141],\n",
       "          [-2.4291,  2.5141,  2.5141,  ...,  2.5141,  2.5141,  2.5141],\n",
       "          [-2.4291,  2.5141,  2.5141,  ...,  2.5141,  2.5141,  2.5141]],\n",
       "\n",
       "         [[-2.4183, -2.4183, -2.4183,  ..., -2.4183, -2.4183, -2.4183],\n",
       "          [-2.4183, -2.4183, -2.4183,  ..., -2.4183, -2.4183, -2.4183],\n",
       "          [-2.4183, -2.4183, -2.4183,  ..., -2.4183, -2.4183, -2.4183],\n",
       "          ...,\n",
       "          [-2.4183,  2.5968,  2.5968,  ...,  2.5968,  2.5968,  2.5968],\n",
       "          [-2.4183,  2.5968,  2.5968,  ...,  2.5968,  2.5968,  2.5968],\n",
       "          [-2.4183,  2.5968,  2.5968,  ...,  2.5968,  2.5968,  2.5968]],\n",
       "\n",
       "         [[-2.2214, -2.2214, -2.2214,  ..., -2.2214, -2.2214, -2.2214],\n",
       "          [-2.2214, -2.2214, -2.2214,  ..., -2.2214, -2.2214, -2.2214],\n",
       "          [-2.2214, -2.2214, -2.2214,  ..., -2.2214, -2.2214, -2.2214],\n",
       "          ...,\n",
       "          [-2.2214,  2.7537,  2.7537,  ...,  2.7537,  2.7537,  2.7537],\n",
       "          [-2.2214,  2.7537,  2.7537,  ...,  2.7537,  2.7537,  2.7537],\n",
       "          [-2.2214,  2.7537,  2.7537,  ...,  2.7537,  2.7537,  2.7537]]]])"
      ]
     },
     "execution_count": 14,
     "metadata": {},
     "output_type": "execute_result"
    }
   ],
   "source": [
    "i"
   ]
  },
  {
   "cell_type": "code",
   "execution_count": 15,
   "metadata": {},
   "outputs": [
    {
     "name": "stdout",
     "output_type": "stream",
     "text": [
      "Registering model with LeafTrainer...\n",
      "Model state extracted, size: 23574015 parameters\n",
      "Distributing model to 2 servers...\n",
      "Debug: Server gpu-server-1 has hostname: 174.93.255.152 and port: 35495\n",
      "Storing model on server: gpu-server-1\n",
      "✓ Model stored on server gpu-server-1 successfully\n",
      "Debug: Server localhost has hostname:  and port: 0\n",
      "Storing model on server: localhost\n",
      "✓ Model stored locally successfully\n",
      "Model registered successfully! Total models: 1\n"
     ]
    }
   ],
   "source": [
    "model = leaf_trainer.register_model(model)\n",
    "results = model(i)\n",
    "results\n",
    "#input, target = trainloader[0]\n",
    "# criterion = leaf_trainer.register_criterion(criterion)\n",
    "# optimizer = leaf_trainer.register_optimizer(optimizer)\n",
    "\n",
    "# outputs = model(input)\n",
    "# loss = criterion(outputs=outputs, target=target)\n",
    "# loss.backward()\n",
    "# optimizer.step()"
   ]
  },
  {
   "cell_type": "code",
   "execution_count": 16,
   "metadata": {},
   "outputs": [
    {
     "ename": "NameError",
     "evalue": "name 'asdf' is not defined",
     "output_type": "error",
     "traceback": [
      "\u001b[31m---------------------------------------------------------------------------\u001b[39m",
      "\u001b[31mNameError\u001b[39m                                 Traceback (most recent call last)",
      "\u001b[36mCell\u001b[39m\u001b[36m \u001b[39m\u001b[32mIn[16]\u001b[39m\u001b[32m, line 1\u001b[39m\n\u001b[32m----> \u001b[39m\u001b[32m1\u001b[39m \u001b[43masdf\u001b[49m\n",
      "\u001b[31mNameError\u001b[39m: name 'asdf' is not defined"
     ]
    }
   ],
   "source": [
    "asdf"
   ]
  },
  {
   "cell_type": "code",
   "execution_count": 12,
   "metadata": {},
   "outputs": [],
   "source": [
    "# Training loop\n",
    "def train():\n",
    "    model.train()\n",
    "    running_loss = 0.0\n",
    "    correct = 0\n",
    "    total = 0\n",
    "    \n",
    "    for batch_idx, (inputs, targets) in enumerate(trainloader):\n",
    "        inputs, targets = inputs.to(device), targets.to(device)\n",
    "        \n",
    "        optimizer.zero_grad()\n",
    "        outputs = model(inputs)\n",
    "        loss = criterion(outputs, targets)\n",
    "        loss.backward()\n",
    "        optimizer.step()\n",
    "        \n",
    "        running_loss += loss.item()\n",
    "        _, predicted = outputs.max(1)\n",
    "        total += targets.size(0)\n",
    "        correct += predicted.eq(targets).sum().item()\n",
    "        \n",
    "        if (batch_idx + 1) % 100 == 0:\n",
    "            print(f'Batch: {batch_idx + 1} | Loss: {running_loss/(batch_idx + 1):.3f} | '\n",
    "                  f'Acc: {100.*correct/total:.2f}%')\n",
    "    \n",
    "    return running_loss/len(trainloader), 100.*correct/total"
   ]
  },
  {
   "cell_type": "code",
   "execution_count": 13,
   "metadata": {},
   "outputs": [],
   "source": [
    "# Testing loop\n",
    "def test():\n",
    "    model.eval()\n",
    "    test_loss = 0\n",
    "    correct = 0\n",
    "    total = 0\n",
    "    \n",
    "    with torch.no_grad():\n",
    "        for inputs, targets in testloader:\n",
    "            inputs, targets = inputs.to(device), targets.to(device)\n",
    "            outputs = model(inputs)\n",
    "            loss = criterion(outputs, targets)\n",
    "            \n",
    "            test_loss += loss.item()\n",
    "            _, predicted = outputs.max(1)\n",
    "            total += targets.size(0)\n",
    "            correct += predicted.eq(targets).sum().item()\n",
    "    \n",
    "    return test_loss/len(testloader), 100.*correct/total"
   ]
  },
  {
   "cell_type": "code",
   "execution_count": null,
   "metadata": {},
   "outputs": [],
   "source": [
    "# Main training loop\n",
    "print('Starting training...')\n",
    "best_acc = 0\n",
    "for epoch in range(num_epochs):\n",
    "    start_time = time.time()\n",
    "    \n",
    "    train_loss, train_acc = train()\n",
    "    test_loss, test_acc = test()\n",
    "    \n",
    "    scheduler.step(test_loss)\n",
    "    \n",
    "    print(f'\\nEpoch: {epoch + 1}/{num_epochs}')\n",
    "    print(f'Time: {time.time() - start_time:.2f}s')\n",
    "    print(f'Train Loss: {train_loss:.3f} | Train Acc: {train_acc:.2f}%')\n",
    "    print(f'Test Loss: {test_loss:.3f} | Test Acc: {test_acc:.2f}%')\n",
    "    \n",
    "    # Save best model\n",
    "    if test_acc > best_acc:\n",
    "        print('Saving best model...')\n",
    "        state = {\n",
    "            'model': model.state_dict(),\n",
    "            'acc': test_acc,\n",
    "            'epoch': epoch,\n",
    "        }\n",
    "        torch.save(state, 'best_model.pth')\n",
    "        best_acc = test_acc\n",
    "print('Training completed!')"
   ]
  }
 ],
 "metadata": {
  "kernelspec": {
   "display_name": ".venv",
   "language": "python",
   "name": "python3"
  },
  "language_info": {
   "codemirror_mode": {
    "name": "ipython",
    "version": 3
   },
   "file_extension": ".py",
   "mimetype": "text/x-python",
   "name": "python",
   "nbconvert_exporter": "python",
   "pygments_lexer": "ipython3",
   "version": "3.12.11"
  }
 },
 "nbformat": 4,
 "nbformat_minor": 2
}
