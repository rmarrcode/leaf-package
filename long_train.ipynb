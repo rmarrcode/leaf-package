{
 "cells": [
  {
   "cell_type": "code",
   "execution_count": 1,
   "metadata": {},
   "outputs": [
    {
     "name": "stdout",
     "output_type": "stream",
     "text": [
      "Initializing _core module...\n",
      "_core module initialization complete!\n"
     ]
    }
   ],
   "source": [
    "import torch\n",
    "import torch.nn as nn\n",
    "import torch.optim as optim\n",
    "import torchvision\n",
    "import torchvision.transforms as transforms\n",
    "from torch.utils.data import DataLoader\n",
    "from torchvision.models import resnet50\n",
    "import time\n",
    "import wandb\n",
    "#\n",
    "from leaf._core import LeafConfig, LeafTrainer"
   ]
  },
  {
   "cell_type": "code",
   "execution_count": 2,
   "metadata": {},
   "outputs": [],
   "source": [
    "config = LeafConfig()"
   ]
  },
  {
   "cell_type": "code",
   "execution_count": 3,
   "metadata": {},
   "outputs": [
    {
     "name": "stdout",
     "output_type": "stream",
     "text": [
      "SSH connection test successful\n",
      "76.71.171.219 : ssh connection successful\n",
      "Checking for Docker installation...\n",
      "76.71.171.219 :docker verification successful\n",
      "76.71.171.219 : docker daemon verification successful\n",
      "Docker files copied successfully\n",
      "76.71.171.219 : docker files copied successful\n",
      "leaf-grpc-server\n",
      "Building Docker image...\n",
      "#0 building with \"default\" instance using docker driver\n",
      "\n",
      "#1 [internal] load build definition from Dockerfile\n",
      "#1 transferring dockerfile: 1.51kB done\n",
      "#1 DONE 0.0s\n",
      "\n",
      "#2 [internal] load metadata for docker.io/library/ubuntu:22.04\n",
      "#2 DONE 0.2s\n",
      "\n",
      "#3 [internal] load .dockerignore\n",
      "#3 transferring context: 2B done\n",
      "#3 DONE 0.0s\n",
      "\n",
      "#4 [builder  1/13] FROM docker.io/library/ubuntu:22.04@sha256:3c61d3759c2639d4b836d32a2d3c83fa0214e36f195a3421018dbaaf79cbe37f\n",
      "#4 DONE 0.0s\n",
      "\n",
      "#5 [internal] load build context\n",
      "#5 transferring context: 27.81kB done\n",
      "#5 DONE 0.0s\n",
      "\n",
      "#6 [builder  2/13] RUN apt-get update && apt-get install -y     build-essential     protobuf-compiler-grpc     libgrpc++-dev     libprotobuf-dev     python3-dev     python3-pip     && rm -rf /var/lib/apt/lists/*\n",
      "#6 CACHED\n",
      "\n",
      "#7 [stage-1 3/6] RUN pip3 install pybind11\n",
      "#7 CACHED\n",
      "\n",
      "#8 [builder  5/13] COPY server_communication.cpp .\n",
      "#8 CACHED\n",
      "\n",
      "#9 [stage-1 4/6] WORKDIR /app\n",
      "#9 CACHED\n",
      "\n",
      "#10 [builder  8/13] COPY model.h .\n",
      "#10 CACHED\n",
      "\n",
      "#11 [builder 10/13] COPY criterion.h .\n",
      "#11 CACHED\n",
      "\n",
      "#12 [builder 13/13] RUN g++ -std=c++17 -I/usr/include/python3.10 -I/usr/local/lib/python3.10/dist-packages/pybind11/include server_communication.cpp model.cpp criterion.cpp server_communication.pb.cc server_communication.grpc.pb.cc -lgrpc++ -lprotobuf -lpython3.10 -o server_communication\n",
      "#12 CACHED\n",
      "\n",
      "#13 [builder 12/13] RUN protoc --cpp_out=. --grpc_out=. --plugin=protoc-gen-grpc=/usr/bin/grpc_cpp_plugin server_communication.proto\n",
      "#13 CACHED\n",
      "\n",
      "#14 [builder  3/13] RUN pip3 install pybind11\n",
      "#14 CACHED\n",
      "\n",
      "#15 [stage-1 5/6] COPY --from=builder /src/server_communication ./server_communication\n",
      "#15 CACHED\n",
      "\n",
      "#16 [stage-1 2/6] RUN apt-get update && apt-get install -y     libgrpc++1     libgrpc10     libprotobuf23     python3     python3-pip     && rm -rf /var/lib/apt/lists/*\n",
      "#16 CACHED\n",
      "\n",
      "#17 [builder  4/13] WORKDIR /src\n",
      "#17 CACHED\n",
      "\n",
      "#18 [builder  7/13] COPY server_communication.proto .\n",
      "#18 CACHED\n",
      "\n",
      "#19 [builder 11/13] COPY criterion.cpp .\n",
      "#19 CACHED\n",
      "\n",
      "#20 [builder  9/13] COPY model.cpp .\n",
      "#20 CACHED\n",
      "\n",
      "#21 [builder  6/13] COPY server_communication.h .\n",
      "#21 CACHED\n",
      "\n",
      "#22 [stage-1 6/6] RUN chmod +x server_communication\n",
      "#22 CACHED\n",
      "\n",
      "#23 exporting to image\n",
      "#23 exporting layers done\n",
      "#23 writing image sha256:d5ad4dd7faf265f7dae9d361ce625b5567a69007e697562ba6af1ed65aefe77c done\n",
      "#23 naming to docker.io/library/leaf-grpc-server done\n",
      "#23 DONE 0.0s\n",
      "Docker build successful, starting container...\n",
      "ad84bfa62a59ca173d675f36b3a2b9349135b5b4b90f0743e782773db60f8018\n",
      "Docker container started successfully!\n",
      "ad84bfa62a59   leaf-grpc-server   \"./server_communicat…\"   12 seconds ago   Up 11 seconds   127.0.0.1:50051->50051/tcp   leaf-grpc-server\n",
      "76.71.171.219 : docker container built successful\n",
      "SSH tunnel established on port 50057 (PID: 25365)\n",
      "76.71.171.219 : ssh tunnel setup successful\n",
      "76.71.171.219 : grpc connection successful\n",
      "gRPC verification successful\n"
     ]
    }
   ],
   "source": [
    "config.add_server(\n",
    "    server_name=\"gpu-server-1\",\n",
    "    username=\"root\",\n",
    "    hostname=\"76.71.171.219\",\n",
    "    port=56249,  \n",
    ")"
   ]
  },
  {
   "cell_type": "code",
   "execution_count": 4,
   "metadata": {},
   "outputs": [],
   "source": [
    "leaf_trainer = LeafTrainer(config)"
   ]
  },
  {
   "cell_type": "code",
   "execution_count": 5,
   "metadata": {},
   "outputs": [
    {
     "name": "stdout",
     "output_type": "stream",
     "text": [
      "\n",
      "=== Available Servers and Resources ===\n",
      "\n",
      "==================================================\n",
      "Server: gpu-server-1\n",
      "==================================================\n",
      "Status: Connected\n",
      "Type: Remote server\n",
      "Username: root\n",
      "Hostname: 76.71.171.219\n",
      "Port: 56249\n",
      "\n",
      "Available Resources (1):\n",
      "--------------------------------------------------\n",
      "\n",
      "Resource 1:\n",
      "  Name: Quadro P4000\n",
      "  Type: GPU\n",
      "  Properties:\n",
      "    free_memory: 8105 MiB\n",
      "\n",
      "    total_memory: 8192 MiB\n",
      "\n",
      "--------------------------------------------------\n",
      "\n",
      "==================================================\n",
      "Server: localhost\n",
      "==================================================\n",
      "Status: Connected\n",
      "Type: Local machine\n",
      "\n",
      "Available Resources (1):\n",
      "--------------------------------------------------\n",
      "\n",
      "Resource 1:\n",
      "  Name: Apple M1\n",
      "  Type: CPU\n",
      "  Properties:\n",
      "\n",
      "--------------------------------------------------\n",
      "\n",
      "=== End of Server List ===\n",
      "\n"
     ]
    }
   ],
   "source": [
    "config.print_all_resources()"
   ]
  },
  {
   "cell_type": "code",
   "execution_count": 6,
   "metadata": {},
   "outputs": [],
   "source": [
    "leaf_trainer = LeafTrainer(config)"
   ]
  },
  {
   "cell_type": "code",
   "execution_count": 7,
   "metadata": {},
   "outputs": [
    {
     "name": "stdout",
     "output_type": "stream",
     "text": [
      "=== Testing get_gradients_from_server with hardcoded values ===\n",
      "\n",
      "============================================================\n",
      "Testing server: gpu-server-1\n",
      "============================================================\n",
      "Debug: Server gpu-server-1 has hostname: 76.71.171.219 and port: 56249\n",
      "Server type: Remote\n",
      "Connection status: Connected\n",
      "Creating gRPC channel for server 'gpu-server-1' at address: localhost:50057\n",
      "✓ Gradient computation successful!\n",
      "  Loss: 0.5\n",
      "  Gradients size: 3 elements\n",
      "  Sample gradients: 4.59312e+27, 4.58281e+30, 6.88852e+22\n",
      "\n",
      "============================================================\n",
      "Testing server: localhost\n",
      "============================================================\n",
      "Debug: Server localhost has hostname:  and port: 0\n",
      "Server type: Local\n",
      "Connection status: Connected\n",
      "  Computing gradients locally (using GetGradients from server_communication)...\n",
      "  Local computation completed\n",
      "✓ Gradient computation successful!\n",
      "  Loss: 0.5\n",
      "  Gradients size: 3 elements\n",
      "  Sample gradients: 4.59312e+27, 4.58281e+30, 6.88852e+22\n",
      "\n",
      "============================================================\n",
      "Gradient testing with hardcoded values completed!\n",
      "============================================================\n"
     ]
    },
    {
     "data": {
      "text/plain": [
       "{'server_results': [{'server_name': 'gpu-server-1',\n",
       "   'is_local': False,\n",
       "   'is_connected': True,\n",
       "   'success': True,\n",
       "   'loss': 0.5,\n",
       "   'gradients_size': 3,\n",
       "   'gradients': [4.593116492825124e+27,\n",
       "    4.582813224188066e+30,\n",
       "    6.888519090641375e+22]},\n",
       "  {'server_name': 'localhost',\n",
       "   'is_local': True,\n",
       "   'is_connected': True,\n",
       "   'success': True,\n",
       "   'loss': 0.5,\n",
       "   'gradients_size': 3,\n",
       "   'gradients': [4.593116492825124e+27,\n",
       "    4.582813224188066e+30,\n",
       "    6.888519090641375e+22]}],\n",
       " 'total_servers': 2}"
      ]
     },
     "execution_count": 7,
     "metadata": {},
     "output_type": "execute_result"
    }
   ],
   "source": [
    "leaf_trainer.test_with_hardcoded_values()"
   ]
  },
  {
   "cell_type": "code",
   "execution_count": 8,
   "metadata": {},
   "outputs": [],
   "source": [
    "# Set device\n",
    "device = torch.device('cuda' if torch.cuda.is_available() else 'cpu')\n",
    "\n",
    "# Hyperparameters\n",
    "num_epochs = 50\n",
    "batch_size = 128\n",
    "learning_rate = 0.001\n",
    "\n",
    "# Data preprocessing\n",
    "transform_train = transforms.Compose([\n",
    "    transforms.RandomCrop(32, padding=4),\n",
    "    transforms.RandomHorizontalFlip(),\n",
    "    transforms.ToTensor(),\n",
    "    transforms.Normalize((0.4914, 0.4822, 0.4465), (0.2023, 0.1994, 0.2010)),\n",
    "])\n",
    "\n",
    "transform_test = transforms.Compose([\n",
    "    transforms.ToTensor(),\n",
    "    transforms.Normalize((0.4914, 0.4822, 0.4465), (0.2023, 0.1994, 0.2010)),\n",
    "])"
   ]
  },
  {
   "cell_type": "code",
   "execution_count": 9,
   "metadata": {},
   "outputs": [],
   "source": [
    "# Load CIFAR-10 dataset\n",
    "trainset = torchvision.datasets.CIFAR10(root='./data', train=True,\n",
    "                                      download=True, transform=transform_train)\n",
    "trainloader = DataLoader(trainset, batch_size=batch_size,\n",
    "                        shuffle=True, num_workers=2)\n",
    "\n",
    "testset = torchvision.datasets.CIFAR10(root='./data', train=False,\n",
    "                                     download=True, transform=transform_test)\n",
    "testloader = DataLoader(testset, batch_size=batch_size,\n",
    "                       shuffle=False, num_workers=2)"
   ]
  },
  {
   "cell_type": "code",
   "execution_count": 10,
   "metadata": {},
   "outputs": [
    {
     "name": "stderr",
     "output_type": "stream",
     "text": [
      "/Users/ryanmarr/Documents/Subnautica_mod/.venv/lib/python3.12/site-packages/torchvision/models/_utils.py:208: UserWarning: The parameter 'pretrained' is deprecated since 0.13 and may be removed in the future, please use 'weights' instead.\n",
      "  warnings.warn(\n",
      "/Users/ryanmarr/Documents/Subnautica_mod/.venv/lib/python3.12/site-packages/torchvision/models/_utils.py:223: UserWarning: Arguments other than a weight enum or `None` for 'weights' are deprecated since 0.13 and may be removed in the future. The current behavior is equivalent to passing `weights=ResNet50_Weights.IMAGENET1K_V1`. You can also use `weights=ResNet50_Weights.DEFAULT` to get the most up-to-date weights.\n",
      "  warnings.warn(msg)\n"
     ]
    }
   ],
   "source": [
    "# Load pretrained ResNet-50 and modify for CIFAR-10\n",
    "model = resnet50(pretrained=True)\n",
    "model.conv1 = nn.Conv2d(3, 64, kernel_size=3, stride=1, padding=1, bias=False)\n",
    "model.maxpool = nn.Identity()  # Remove maxpool as CIFAR-10 images are small\n",
    "model.fc = nn.Linear(model.fc.in_features, 10)  # Change output to 10 classes\n",
    "model = model.to(device)"
   ]
  },
  {
   "cell_type": "code",
   "execution_count": 11,
   "metadata": {},
   "outputs": [],
   "source": [
    "# run = wandb.init(\n",
    "#     project=\"big-model-example\"\n",
    "# )"
   ]
  },
  {
   "cell_type": "code",
   "execution_count": 12,
   "metadata": {},
   "outputs": [],
   "source": [
    "# Loss function and optimizer\n",
    "criterion = nn.CrossEntropyLoss()\n",
    "optimizer = optim.Adam(model.parameters(), lr=learning_rate)\n",
    "scheduler = optim.lr_scheduler.ReduceLROnPlateau(optimizer, 'min', patience=3)"
   ]
  },
  {
   "cell_type": "code",
   "execution_count": 13,
   "metadata": {},
   "outputs": [
    {
     "name": "stdout",
     "output_type": "stream",
     "text": [
      "0\n"
     ]
    }
   ],
   "source": [
    "for idx, (input, target) in enumerate(trainloader):\n",
    "    print(idx)\n",
    "    if idx == 0:\n",
    "        i = input\n",
    "        break"
   ]
  },
  {
   "cell_type": "code",
   "execution_count": 14,
   "metadata": {},
   "outputs": [
    {
     "data": {
      "text/plain": [
       "tensor([[[[ 0.9827,  0.7307,  1.2347,  ...,  0.9439,  0.7694,  0.6531],\n",
       "          [ 0.0716,  0.1879,  0.5562,  ...,  0.9633,  0.8276,  0.7113],\n",
       "          [-0.7813, -0.5100,  0.0910,  ...,  0.9633,  0.8470,  0.7501],\n",
       "          ...,\n",
       "          [-1.1303, -1.0721, -0.8007,  ..., -1.1497, -1.1109, -1.1109],\n",
       "          [-2.4291, -2.4291, -2.4291,  ..., -2.4291, -2.4291, -2.4291],\n",
       "          [-2.4291, -2.4291, -2.4291,  ..., -2.4291, -2.4291, -2.4291]],\n",
       "\n",
       "         [[ 1.3184,  0.9644,  1.3578,  ...,  1.5741,  1.4168,  1.2988],\n",
       "          [ 0.4138,  0.4138,  0.7088,  ...,  1.6134,  1.4758,  1.3774],\n",
       "          [-0.3926, -0.2352,  0.2761,  ...,  1.6134,  1.4954,  1.3971],\n",
       "          ...,\n",
       "          [-0.6286, -0.5499, -0.3139,  ..., -0.7662, -0.7466, -0.7269],\n",
       "          [-2.4183, -2.4183, -2.4183,  ..., -2.4183, -2.4183, -2.4183],\n",
       "          [-2.4183, -2.4183, -2.4183,  ..., -2.4183, -2.4183, -2.4183]],\n",
       "\n",
       "         [[ 0.9783,  0.3149,  0.2954,  ...,  2.2855,  2.1294,  2.0123],\n",
       "          [ 0.0613, -0.2899, -0.4460,  ...,  2.3245,  2.1879,  2.0904],\n",
       "          [-0.8362, -0.9532, -0.8167,  ...,  2.3245,  2.2074,  2.1099],\n",
       "          ...,\n",
       "          [ 0.0223,  0.0808,  0.3540,  ..., -0.1143, -0.0753, -0.0753],\n",
       "          [-2.2214, -2.2214, -2.2214,  ..., -2.2214, -2.2214, -2.2214],\n",
       "          [-2.2214, -2.2214, -2.2214,  ..., -2.2214, -2.2214, -2.2214]]],\n",
       "\n",
       "\n",
       "        [[[-2.4291,  0.6531,  0.4011,  ...,  0.7307,  0.6919,  0.6531],\n",
       "          [-2.4291,  0.8276,  0.6338,  ...,  0.8858,  0.8664,  0.8276],\n",
       "          [-2.4291,  0.9439,  0.9245,  ...,  0.9633,  0.9633,  0.9633],\n",
       "          ...,\n",
       "          [-2.4291,  1.5061,  1.4673,  ...,  1.4867,  1.4479,  1.4285],\n",
       "          [-2.4291, -2.4291, -2.4291,  ..., -2.4291, -2.4291, -2.4291],\n",
       "          [-2.4291, -2.4291, -2.4291,  ..., -2.4291, -2.4291, -2.4291]],\n",
       "\n",
       "         [[-2.4183,  0.4924,  0.2564,  ...,  0.5908,  0.6104,  0.6104],\n",
       "          [-2.4183,  0.6301,  0.4334,  ...,  0.7088,  0.7284,  0.7284],\n",
       "          [-2.4183,  0.7284,  0.7284,  ...,  0.7678,  0.7874,  0.8071],\n",
       "          ...,\n",
       "          [-2.4183,  1.0038,  0.9841,  ...,  1.0824,  1.0431,  1.0234],\n",
       "          [-2.4183, -2.4183, -2.4183,  ..., -2.4183, -2.4183, -2.4183],\n",
       "          [-2.4183, -2.4183, -2.4183,  ..., -2.4183, -2.4183, -2.4183]],\n",
       "\n",
       "         [[-2.2214,  0.4905,  0.2564,  ...,  0.4905,  0.4905,  0.4710],\n",
       "          [-2.2214,  0.6271,  0.4320,  ...,  0.6271,  0.6271,  0.6271],\n",
       "          [-2.2214,  0.7247,  0.7247,  ...,  0.7637,  0.7637,  0.7832],\n",
       "          ...,\n",
       "          [-2.2214,  0.2564,  0.2369,  ...,  0.3930,  0.3540,  0.3345],\n",
       "          [-2.2214, -2.2214, -2.2214,  ..., -2.2214, -2.2214, -2.2214],\n",
       "          [-2.2214, -2.2214, -2.2214,  ..., -2.2214, -2.2214, -2.2214]]],\n",
       "\n",
       "\n",
       "        [[[ 1.5836,  1.5061,  1.6418,  ..., -2.4291, -2.4291, -2.4291],\n",
       "          [ 1.6224,  1.4285,  1.5448,  ..., -2.4291, -2.4291, -2.4291],\n",
       "          [ 1.5448,  1.2735,  1.3704,  ..., -2.4291, -2.4291, -2.4291],\n",
       "          ...,\n",
       "          [-2.4291, -2.4291, -2.4291,  ..., -2.4291, -2.4291, -2.4291],\n",
       "          [-2.4291, -2.4291, -2.4291,  ..., -2.4291, -2.4291, -2.4291],\n",
       "          [-2.4291, -2.4291, -2.4291,  ..., -2.4291, -2.4291, -2.4291]],\n",
       "\n",
       "         [[ 1.6331,  1.5348,  1.6528,  ..., -2.4183, -2.4183, -2.4183],\n",
       "          [ 1.6724,  1.4364,  1.5348,  ..., -2.4183, -2.4183, -2.4183],\n",
       "          [ 1.5741,  1.2594,  1.3381,  ..., -2.4183, -2.4183, -2.4183],\n",
       "          ...,\n",
       "          [-2.4183, -2.4183, -2.4183,  ..., -2.4183, -2.4183, -2.4183],\n",
       "          [-2.4183, -2.4183, -2.4183,  ..., -2.4183, -2.4183, -2.4183],\n",
       "          [-2.4183, -2.4183, -2.4183,  ..., -2.4183, -2.4183, -2.4183]],\n",
       "\n",
       "         [[ 1.8172,  1.7197,  1.8172,  ..., -2.2214, -2.2214, -2.2214],\n",
       "          [ 1.8367,  1.6221,  1.6807,  ..., -2.2214, -2.2214, -2.2214],\n",
       "          [ 1.7197,  1.4075,  1.5051,  ..., -2.2214, -2.2214, -2.2214],\n",
       "          ...,\n",
       "          [-2.2214, -2.2214, -2.2214,  ..., -2.2214, -2.2214, -2.2214],\n",
       "          [-2.2214, -2.2214, -2.2214,  ..., -2.2214, -2.2214, -2.2214],\n",
       "          [-2.2214, -2.2214, -2.2214,  ..., -2.2214, -2.2214, -2.2214]]],\n",
       "\n",
       "\n",
       "        ...,\n",
       "\n",
       "\n",
       "        [[[ 2.5141,  2.5141,  2.5141,  ..., -2.4291, -2.4291, -2.4291],\n",
       "          [ 1.1765,  1.1378,  1.0021,  ..., -2.4291, -2.4291, -2.4291],\n",
       "          [-0.6650, -1.1497, -1.2272,  ..., -2.4291, -2.4291, -2.4291],\n",
       "          ...,\n",
       "          [-2.4291, -2.4291, -2.4291,  ..., -2.4291, -2.4291, -2.4291],\n",
       "          [-2.4291, -2.4291, -2.4291,  ..., -2.4291, -2.4291, -2.4291],\n",
       "          [-2.4291, -2.4291, -2.4291,  ..., -2.4291, -2.4291, -2.4291]],\n",
       "\n",
       "         [[ 2.5968,  2.5968,  2.5968,  ..., -2.4183, -2.4183, -2.4183],\n",
       "          [ 1.2201,  1.1021,  0.9448,  ..., -2.4183, -2.4183, -2.4183],\n",
       "          [-1.1006, -1.3562, -1.3759,  ..., -2.4183, -2.4183, -2.4183],\n",
       "          ...,\n",
       "          [-2.4183, -2.4183, -2.4183,  ..., -2.4183, -2.4183, -2.4183],\n",
       "          [-2.4183, -2.4183, -2.4183,  ..., -2.4183, -2.4183, -2.4183],\n",
       "          [-2.4183, -2.4183, -2.4183,  ..., -2.4183, -2.4183, -2.4183]],\n",
       "\n",
       "         [[ 1.8563,  1.7782,  1.5441,  ..., -2.2214, -2.2214, -2.2214],\n",
       "          [ 0.5881,  0.5100,  0.3345,  ..., -2.2214, -2.2214, -2.2214],\n",
       "          [-1.2459, -1.0898, -1.0703,  ..., -2.2214, -2.2214, -2.2214],\n",
       "          ...,\n",
       "          [-2.2214, -2.2214, -2.2214,  ..., -2.2214, -2.2214, -2.2214],\n",
       "          [-2.2214, -2.2214, -2.2214,  ..., -2.2214, -2.2214, -2.2214],\n",
       "          [-2.2214, -2.2214, -2.2214,  ..., -2.2214, -2.2214, -2.2214]]],\n",
       "\n",
       "\n",
       "        [[[-0.4324,  0.3817,  0.3042,  ..., -2.4291, -2.4291, -2.4291],\n",
       "          [-0.5875,  0.4011,  0.3042,  ..., -2.4291, -2.4291, -2.4291],\n",
       "          [-0.7232,  0.4011,  0.2848,  ..., -2.4291, -2.4291, -2.4291],\n",
       "          ...,\n",
       "          [-2.4291, -2.4291, -2.4291,  ..., -2.4291, -2.4291, -2.4291],\n",
       "          [-2.4291, -2.4291, -2.4291,  ..., -2.4291, -2.4291, -2.4291],\n",
       "          [-2.4291, -2.4291, -2.4291,  ..., -2.4291, -2.4291, -2.4291]],\n",
       "\n",
       "         [[-0.3729,  0.4334,  0.3548,  ..., -2.4183, -2.4183, -2.4183],\n",
       "          [-0.5696,  0.4531,  0.3744,  ..., -2.4183, -2.4183, -2.4183],\n",
       "          [-0.7466,  0.4531,  0.3744,  ..., -2.4183, -2.4183, -2.4183],\n",
       "          ...,\n",
       "          [-2.4183, -2.4183, -2.4183,  ..., -2.4183, -2.4183, -2.4183],\n",
       "          [-2.4183, -2.4183, -2.4183,  ..., -2.4183, -2.4183, -2.4183],\n",
       "          [-2.4183, -2.4183, -2.4183,  ..., -2.4183, -2.4183, -2.4183]],\n",
       "\n",
       "         [[ 0.3540,  1.1539,  1.0758,  ..., -2.2214, -2.2214, -2.2214],\n",
       "          [ 0.1394,  1.1734,  1.0758,  ..., -2.2214, -2.2214, -2.2214],\n",
       "          [-0.1338,  1.0563,  0.9978,  ..., -2.2214, -2.2214, -2.2214],\n",
       "          ...,\n",
       "          [-2.2214, -2.2214, -2.2214,  ..., -2.2214, -2.2214, -2.2214],\n",
       "          [-2.2214, -2.2214, -2.2214,  ..., -2.2214, -2.2214, -2.2214],\n",
       "          [-2.2214, -2.2214, -2.2214,  ..., -2.2214, -2.2214, -2.2214]]],\n",
       "\n",
       "\n",
       "        [[[-2.4291, -1.3823, -1.4404,  ..., -1.3047, -0.9558, -0.9364],\n",
       "          [-2.4291, -1.7118, -1.7894,  ..., -1.3047, -1.0915, -1.0721],\n",
       "          [-2.4291, -1.9832, -1.8087,  ..., -1.1690, -1.0721, -1.2660],\n",
       "          ...,\n",
       "          [-2.4291, -1.2660, -0.8395,  ..., -1.2272, -1.1884, -1.1884],\n",
       "          [-2.4291, -1.8863, -1.6537,  ..., -2.3709, -2.3709, -2.3709],\n",
       "          [-2.4291, -2.4291, -2.4291,  ..., -2.4291, -2.4291, -2.4291]],\n",
       "\n",
       "         [[-2.4183, -1.4349, -1.4742,  ..., -1.5332, -1.2186, -1.1792],\n",
       "          [-2.4183, -1.7299, -1.8282,  ..., -1.5922, -1.4152, -1.3562],\n",
       "          [-2.4183, -1.9856, -1.8479,  ..., -1.4349, -1.3956, -1.5529],\n",
       "          ...,\n",
       "          [-2.4183, -1.2776, -0.9629,  ..., -1.3562, -1.3562, -1.3169],\n",
       "          [-2.4183, -1.8676, -1.7299,  ..., -2.4183, -2.4183, -2.4183],\n",
       "          [-2.4183, -2.4183, -2.4183,  ..., -2.4183, -2.4183, -2.4183]],\n",
       "\n",
       "         [[-2.2214, -1.4800, -1.5580,  ..., -1.6556, -1.3629, -1.2459],\n",
       "          [-2.2214, -1.8312, -1.9678,  ..., -1.7922, -1.6166, -1.5190],\n",
       "          [-2.2214, -2.0653, -2.0653,  ..., -1.7141, -1.6556, -1.7531],\n",
       "          ...,\n",
       "          [-2.2214, -1.3044, -1.0118,  ..., -1.4410, -1.4800, -1.4410],\n",
       "          [-2.2214, -1.6556, -1.4605,  ..., -2.1824, -2.2214, -2.2214],\n",
       "          [-2.2214, -2.2214, -2.2214,  ..., -2.2214, -2.2214, -2.2214]]]])"
      ]
     },
     "execution_count": 14,
     "metadata": {},
     "output_type": "execute_result"
    }
   ],
   "source": [
    "i"
   ]
  },
  {
   "cell_type": "code",
   "execution_count": 15,
   "metadata": {},
   "outputs": [
    {
     "name": "stdout",
     "output_type": "stream",
     "text": [
      "Registering model with LeafTrainer...\n",
      "Model state extracted, size: 23574015 parameters\n",
      "Distributing model to 2 servers...\n",
      "Debug: Server gpu-server-1 has hostname: 76.71.171.219 and port: 56249\n",
      "Storing model on server: gpu-server-1\n",
      "✓ Model stored on server gpu-server-1 successfully\n",
      "Debug: Server localhost has hostname:  and port: 0\n",
      "Storing model on server: localhost\n",
      "✓ Model stored locally successfully\n",
      "Model registered successfully! Total models: 1\n"
     ]
    }
   ],
   "source": [
    "model_registered = leaf_trainer.register_model(model)\n",
    "# results\n",
    "# #input, target = trainloader[0]\n",
    "# optimizer = leaf_trainer.register_optimizer(optimizer)\n",
    "\n",
    "# outputs = model(input)\n",
    "# loss = criterion(outputs=outputs, target=target)\n",
    "# loss.backward()\n",
    "# optimizer.step()"
   ]
  },
  {
   "cell_type": "code",
   "execution_count": 16,
   "metadata": {},
   "outputs": [],
   "source": [
    "#criterion_registered = leaf_trainer.register_criterion(model_registered, criterion)"
   ]
  },
  {
   "cell_type": "code",
   "execution_count": 17,
   "metadata": {},
   "outputs": [
    {
     "name": "stdout",
     "output_type": "stream",
     "text": [
      "Debug: Server gpu-server-1 has hostname: 76.71.171.219 and port: 56249\n",
      "Error on server gpu-server-1: Forward pass failed: Forward pass RPC failed for server gpu-server-1: Socket closed\n",
      "Debug: Server localhost has hostname:  and port: 0\n",
      "Distributed forward completed: 1/2 servers successful\n"
     ]
    }
   ],
   "source": [
    "results = model_registered(i)\n",
    "#print(criterion_registered(outputs=results, target=target))"
   ]
  },
  {
   "cell_type": "code",
   "execution_count": 18,
   "metadata": {},
   "outputs": [
    {
     "ename": "TypeError",
     "evalue": "CrossEntropyLoss.forward() got an unexpected keyword argument 'outputs'",
     "output_type": "error",
     "traceback": [
      "\u001b[31m---------------------------------------------------------------------------\u001b[39m",
      "\u001b[31mTypeError\u001b[39m                                 Traceback (most recent call last)",
      "\u001b[36mCell\u001b[39m\u001b[36m \u001b[39m\u001b[32mIn[18]\u001b[39m\u001b[32m, line 2\u001b[39m\n\u001b[32m      1\u001b[39m results = model(i)\n\u001b[32m----> \u001b[39m\u001b[32m2\u001b[39m \u001b[38;5;28mprint\u001b[39m(\u001b[43mcriterion\u001b[49m\u001b[43m(\u001b[49m\u001b[43moutputs\u001b[49m\u001b[43m=\u001b[49m\u001b[43mresults\u001b[49m\u001b[43m,\u001b[49m\u001b[43m \u001b[49m\u001b[43mtarget\u001b[49m\u001b[43m=\u001b[49m\u001b[43mtarget\u001b[49m\u001b[43m)\u001b[49m)\n",
      "\u001b[36mFile \u001b[39m\u001b[32m~/Documents/Subnautica_mod/.venv/lib/python3.12/site-packages/torch/nn/modules/module.py:1751\u001b[39m, in \u001b[36mModule._wrapped_call_impl\u001b[39m\u001b[34m(self, *args, **kwargs)\u001b[39m\n\u001b[32m   1749\u001b[39m     \u001b[38;5;28;01mreturn\u001b[39;00m \u001b[38;5;28mself\u001b[39m._compiled_call_impl(*args, **kwargs)  \u001b[38;5;66;03m# type: ignore[misc]\u001b[39;00m\n\u001b[32m   1750\u001b[39m \u001b[38;5;28;01melse\u001b[39;00m:\n\u001b[32m-> \u001b[39m\u001b[32m1751\u001b[39m     \u001b[38;5;28;01mreturn\u001b[39;00m \u001b[38;5;28;43mself\u001b[39;49m\u001b[43m.\u001b[49m\u001b[43m_call_impl\u001b[49m\u001b[43m(\u001b[49m\u001b[43m*\u001b[49m\u001b[43margs\u001b[49m\u001b[43m,\u001b[49m\u001b[43m \u001b[49m\u001b[43m*\u001b[49m\u001b[43m*\u001b[49m\u001b[43mkwargs\u001b[49m\u001b[43m)\u001b[49m\n",
      "\u001b[36mFile \u001b[39m\u001b[32m~/Documents/Subnautica_mod/.venv/lib/python3.12/site-packages/torch/nn/modules/module.py:1762\u001b[39m, in \u001b[36mModule._call_impl\u001b[39m\u001b[34m(self, *args, **kwargs)\u001b[39m\n\u001b[32m   1757\u001b[39m \u001b[38;5;66;03m# If we don't have any hooks, we want to skip the rest of the logic in\u001b[39;00m\n\u001b[32m   1758\u001b[39m \u001b[38;5;66;03m# this function, and just call forward.\u001b[39;00m\n\u001b[32m   1759\u001b[39m \u001b[38;5;28;01mif\u001b[39;00m \u001b[38;5;129;01mnot\u001b[39;00m (\u001b[38;5;28mself\u001b[39m._backward_hooks \u001b[38;5;129;01mor\u001b[39;00m \u001b[38;5;28mself\u001b[39m._backward_pre_hooks \u001b[38;5;129;01mor\u001b[39;00m \u001b[38;5;28mself\u001b[39m._forward_hooks \u001b[38;5;129;01mor\u001b[39;00m \u001b[38;5;28mself\u001b[39m._forward_pre_hooks\n\u001b[32m   1760\u001b[39m         \u001b[38;5;129;01mor\u001b[39;00m _global_backward_pre_hooks \u001b[38;5;129;01mor\u001b[39;00m _global_backward_hooks\n\u001b[32m   1761\u001b[39m         \u001b[38;5;129;01mor\u001b[39;00m _global_forward_hooks \u001b[38;5;129;01mor\u001b[39;00m _global_forward_pre_hooks):\n\u001b[32m-> \u001b[39m\u001b[32m1762\u001b[39m     \u001b[38;5;28;01mreturn\u001b[39;00m \u001b[43mforward_call\u001b[49m\u001b[43m(\u001b[49m\u001b[43m*\u001b[49m\u001b[43margs\u001b[49m\u001b[43m,\u001b[49m\u001b[43m \u001b[49m\u001b[43m*\u001b[49m\u001b[43m*\u001b[49m\u001b[43mkwargs\u001b[49m\u001b[43m)\u001b[49m\n\u001b[32m   1764\u001b[39m result = \u001b[38;5;28;01mNone\u001b[39;00m\n\u001b[32m   1765\u001b[39m called_always_called_hooks = \u001b[38;5;28mset\u001b[39m()\n",
      "\u001b[31mTypeError\u001b[39m: CrossEntropyLoss.forward() got an unexpected keyword argument 'outputs'"
     ]
    }
   ],
   "source": [
    "results = model(i)\n",
    "print(criterion(outputs=results, target=target))"
   ]
  },
  {
   "cell_type": "code",
   "execution_count": null,
   "metadata": {},
   "outputs": [],
   "source": [
    "asdf"
   ]
  },
  {
   "cell_type": "code",
   "execution_count": null,
   "metadata": {},
   "outputs": [],
   "source": [
    "# Training loop\n",
    "def train():\n",
    "    model.train()\n",
    "    running_loss = 0.0\n",
    "    correct = 0\n",
    "    total = 0\n",
    "    \n",
    "    for batch_idx, (inputs, targets) in enumerate(trainloader):\n",
    "        inputs, targets = inputs.to(device), targets.to(device)\n",
    "        \n",
    "        optimizer.zero_grad()\n",
    "        outputs = model(inputs)\n",
    "        loss = criterion(outputs, targets)\n",
    "        loss.backward()\n",
    "        optimizer.step()\n",
    "        \n",
    "        running_loss += loss.item()\n",
    "        _, predicted = outputs.max(1)\n",
    "        total += targets.size(0)\n",
    "        correct += predicted.eq(targets).sum().item()\n",
    "        \n",
    "        if (batch_idx + 1) % 100 == 0:\n",
    "            print(f'Batch: {batch_idx + 1} | Loss: {running_loss/(batch_idx + 1):.3f} | '\n",
    "                  f'Acc: {100.*correct/total:.2f}%')\n",
    "    \n",
    "    return running_loss/len(trainloader), 100.*correct/total"
   ]
  },
  {
   "cell_type": "code",
   "execution_count": null,
   "metadata": {},
   "outputs": [],
   "source": [
    "# Testing loop\n",
    "def test():\n",
    "    model.eval()\n",
    "    test_loss = 0\n",
    "    correct = 0\n",
    "    total = 0\n",
    "    \n",
    "    with torch.no_grad():\n",
    "        for inputs, targets in testloader:\n",
    "            inputs, targets = inputs.to(device), targets.to(device)\n",
    "            outputs = model(inputs)\n",
    "            loss = criterion(outputs, targets)\n",
    "            \n",
    "            test_loss += loss.item()\n",
    "            _, predicted = outputs.max(1)\n",
    "            total += targets.size(0)\n",
    "            correct += predicted.eq(targets).sum().item()\n",
    "    \n",
    "    return test_loss/len(testloader), 100.*correct/total"
   ]
  },
  {
   "cell_type": "code",
   "execution_count": null,
   "metadata": {},
   "outputs": [],
   "source": [
    "# Main training loop\n",
    "print('Starting training...')\n",
    "best_acc = 0\n",
    "for epoch in range(num_epochs):\n",
    "    start_time = time.time()\n",
    "    \n",
    "    train_loss, train_acc = train()\n",
    "    test_loss, test_acc = test()\n",
    "    \n",
    "    scheduler.step(test_loss)\n",
    "    \n",
    "    print(f'\\nEpoch: {epoch + 1}/{num_epochs}')\n",
    "    print(f'Time: {time.time() - start_time:.2f}s')\n",
    "    print(f'Train Loss: {train_loss:.3f} | Train Acc: {train_acc:.2f}%')\n",
    "    print(f'Test Loss: {test_loss:.3f} | Test Acc: {test_acc:.2f}%')\n",
    "    \n",
    "    # Save best model\n",
    "    if test_acc > best_acc:\n",
    "        print('Saving best model...')\n",
    "        state = {\n",
    "            'model': model.state_dict(),\n",
    "            'acc': test_acc,\n",
    "            'epoch': epoch,\n",
    "        }\n",
    "        torch.save(state, 'best_model.pth')\n",
    "        best_acc = test_acc\n",
    "print('Training completed!')"
   ]
  }
 ],
 "metadata": {
  "kernelspec": {
   "display_name": ".venv",
   "language": "python",
   "name": "python3"
  },
  "language_info": {
   "codemirror_mode": {
    "name": "ipython",
    "version": 3
   },
   "file_extension": ".py",
   "mimetype": "text/x-python",
   "name": "python",
   "nbconvert_exporter": "python",
   "pygments_lexer": "ipython3",
   "version": "3.12.11"
  }
 },
 "nbformat": 4,
 "nbformat_minor": 2
}
